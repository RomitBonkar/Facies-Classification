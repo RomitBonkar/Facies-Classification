{
 "cells": [
  {
   "cell_type": "markdown",
   "id": "d69227fd",
   "metadata": {},
   "source": [
    "# Name 1 : Prakarsh Jain\n",
    "# Name 2 : Romit Bonkar\n"
   ]
  },
  {
   "cell_type": "code",
   "execution_count": 1,
   "id": "77343ae4",
   "metadata": {},
   "outputs": [],
   "source": [
    "import pandas as pd\n",
    "import numpy as np\n",
    "from sklearn.model_selection import train_test_split\n",
    "from sklearn.model_selection import GridSearchCV\n",
    "from sklearn import metrics\n",
    "from sklearn.metrics import confusion_matrix, ConfusionMatrixDisplay\n",
    "import pickle\n",
    "import seaborn as sns\n",
    "import matplotlib.pyplot as plt"
   ]
  },
  {
   "cell_type": "code",
   "execution_count": 2,
   "id": "1d34ed1b",
   "metadata": {},
   "outputs": [],
   "source": [
    "out_load=pickle.load(open(\"fp_out.sav\",'rb'))\n",
    "scl_load = pickle.load( open( 'fp_scl.sav', \"rb\" ) )"
   ]
  },
  {
   "cell_type": "code",
   "execution_count": 3,
   "id": "28af9ab5",
   "metadata": {},
   "outputs": [],
   "source": [
    "mi_load=pickle.load( open('fp_mi.sav', 'rb'))\n",
    "f_load=pickle.load( open('fp_ftest.sav', 'rb'))"
   ]
  },
  {
   "cell_type": "code",
   "execution_count": 4,
   "id": "86248d84",
   "metadata": {},
   "outputs": [],
   "source": [
    "transformer=pickle.load( open('fp_qt.sav', 'rb'))"
   ]
  },
  {
   "cell_type": "code",
   "execution_count": 5,
   "id": "12604769",
   "metadata": {},
   "outputs": [],
   "source": [
    "label_encoder=pickle.load(open('fp_label.sav','rb'))\n",
    "to_drop=pickle.load(open('fp_noncol.sav','rb'))"
   ]
  },
  {
   "cell_type": "code",
   "execution_count": 6,
   "id": "6ab26314",
   "metadata": {},
   "outputs": [],
   "source": [
    "rf=pickle.load(open('fp_rf.sav','rb'))\n",
    "gb=pickle.load(open('fp_nn.sav','rb'))\n",
    "knn=pickle.load(open('fp_knn.sav','rb'))"
   ]
  },
  {
   "cell_type": "code",
   "execution_count": 7,
   "id": "7333c138",
   "metadata": {},
   "outputs": [],
   "source": [
    "df=pd.read_excel('VolveData_Project.xlsx',sheet_name='well 13')"
   ]
  },
  {
   "cell_type": "code",
   "execution_count": 8,
   "id": "34590e75",
   "metadata": {},
   "outputs": [],
   "source": [
    "df.head()\n",
    "df.drop(columns=['Well'],inplace=True)"
   ]
  },
  {
   "cell_type": "code",
   "execution_count": 9,
   "id": "4a3a0b84",
   "metadata": {},
   "outputs": [],
   "source": [
    "df.set_index('Depth', inplace=True)\n"
   ]
  },
  {
   "cell_type": "code",
   "execution_count": 10,
   "id": "97f2ac8c",
   "metadata": {},
   "outputs": [],
   "source": [
    "df['RHOB_Cross'] = df['RHOB'] * df['RHOB']\n",
    "\n",
    "df['Log_GR'] =  np.log10(df.GR)\n",
    "\n",
    "df['RT_NPHI_Ratio'] = df['RT'] / df['NPHI']"
   ]
  },
  {
   "cell_type": "code",
   "execution_count": 11,
   "id": "b452d896",
   "metadata": {},
   "outputs": [],
   "source": [
    "X=df[out_load.predict(df)==1]"
   ]
  },
  {
   "cell_type": "code",
   "execution_count": 12,
   "id": "e18d2091",
   "metadata": {},
   "outputs": [
    {
     "data": {
      "text/plain": [
       "Index(['GR', 'RT', 'RHOB', 'NPHI', 'RHOB_Cross', 'Log_GR', 'RT_NPHI_Ratio'], dtype='object')"
      ]
     },
     "execution_count": 12,
     "metadata": {},
     "output_type": "execute_result"
    }
   ],
   "source": [
    "df.columns"
   ]
  },
  {
   "cell_type": "code",
   "execution_count": 13,
   "id": "d67f7ae2",
   "metadata": {},
   "outputs": [],
   "source": [
    "X_s=scl_load.transform(X)"
   ]
  },
  {
   "cell_type": "code",
   "execution_count": 14,
   "id": "2b1272bb",
   "metadata": {},
   "outputs": [],
   "source": [
    "X_s = pd.DataFrame(X_s, columns=[ 'GR', 'RT', 'RHOB', 'NPHI', 'RHOB_Cross', 'Log_GR', 'RT_NPHI_Ratio'])\n"
   ]
  },
  {
   "cell_type": "code",
   "execution_count": 15,
   "id": "bd884dcd",
   "metadata": {},
   "outputs": [],
   "source": [
    "X_nc=X_s.drop(to_drop, axis=1)"
   ]
  },
  {
   "cell_type": "code",
   "execution_count": 16,
   "id": "3dbac1cd",
   "metadata": {},
   "outputs": [],
   "source": [
    "X_f = X_nc.loc[:,(f_load > 0.3) | (mi_load > 0.6)] #### Feature Selection using f values (f>0.3) or MI values (mi>0.6)]\n"
   ]
  },
  {
   "cell_type": "code",
   "execution_count": 17,
   "id": "a2a7c6f1",
   "metadata": {},
   "outputs": [
    {
     "data": {
      "text/html": [
       "<div>\n",
       "<style scoped>\n",
       "    .dataframe tbody tr th:only-of-type {\n",
       "        vertical-align: middle;\n",
       "    }\n",
       "\n",
       "    .dataframe tbody tr th {\n",
       "        vertical-align: top;\n",
       "    }\n",
       "\n",
       "    .dataframe thead th {\n",
       "        text-align: right;\n",
       "    }\n",
       "</style>\n",
       "<table border=\"1\" class=\"dataframe\">\n",
       "  <thead>\n",
       "    <tr style=\"text-align: right;\">\n",
       "      <th></th>\n",
       "      <th>NPHI</th>\n",
       "      <th>RHOB_Cross</th>\n",
       "      <th>Log_GR</th>\n",
       "      <th>RT_NPHI_Ratio</th>\n",
       "    </tr>\n",
       "  </thead>\n",
       "  <tbody>\n",
       "    <tr>\n",
       "      <th>0</th>\n",
       "      <td>-1.326171</td>\n",
       "      <td>1.283986</td>\n",
       "      <td>-0.595891</td>\n",
       "      <td>1.016493</td>\n",
       "    </tr>\n",
       "    <tr>\n",
       "      <th>1</th>\n",
       "      <td>-1.296919</td>\n",
       "      <td>1.294765</td>\n",
       "      <td>-0.546786</td>\n",
       "      <td>1.101855</td>\n",
       "    </tr>\n",
       "    <tr>\n",
       "      <th>2</th>\n",
       "      <td>-1.293785</td>\n",
       "      <td>1.451709</td>\n",
       "      <td>-0.496990</td>\n",
       "      <td>1.067460</td>\n",
       "    </tr>\n",
       "    <tr>\n",
       "      <th>3</th>\n",
       "      <td>-1.080665</td>\n",
       "      <td>1.447053</td>\n",
       "      <td>-0.175071</td>\n",
       "      <td>0.683925</td>\n",
       "    </tr>\n",
       "    <tr>\n",
       "      <th>4</th>\n",
       "      <td>-1.084844</td>\n",
       "      <td>1.334852</td>\n",
       "      <td>0.005610</td>\n",
       "      <td>0.836059</td>\n",
       "    </tr>\n",
       "    <tr>\n",
       "      <th>...</th>\n",
       "      <td>...</td>\n",
       "      <td>...</td>\n",
       "      <td>...</td>\n",
       "      <td>...</td>\n",
       "    </tr>\n",
       "    <tr>\n",
       "      <th>796</th>\n",
       "      <td>-0.472646</td>\n",
       "      <td>0.604659</td>\n",
       "      <td>0.784612</td>\n",
       "      <td>-0.404718</td>\n",
       "    </tr>\n",
       "    <tr>\n",
       "      <th>797</th>\n",
       "      <td>-0.313851</td>\n",
       "      <td>0.488331</td>\n",
       "      <td>0.847027</td>\n",
       "      <td>-0.429943</td>\n",
       "    </tr>\n",
       "    <tr>\n",
       "      <th>798</th>\n",
       "      <td>-0.350416</td>\n",
       "      <td>0.464710</td>\n",
       "      <td>0.774555</td>\n",
       "      <td>-0.432346</td>\n",
       "    </tr>\n",
       "    <tr>\n",
       "      <th>799</th>\n",
       "      <td>-0.298181</td>\n",
       "      <td>0.336066</td>\n",
       "      <td>0.730600</td>\n",
       "      <td>-0.441202</td>\n",
       "    </tr>\n",
       "    <tr>\n",
       "      <th>800</th>\n",
       "      <td>-0.328477</td>\n",
       "      <td>0.191604</td>\n",
       "      <td>0.569994</td>\n",
       "      <td>-0.437555</td>\n",
       "    </tr>\n",
       "  </tbody>\n",
       "</table>\n",
       "<p>801 rows × 4 columns</p>\n",
       "</div>"
      ],
      "text/plain": [
       "         NPHI  RHOB_Cross    Log_GR  RT_NPHI_Ratio\n",
       "0   -1.326171    1.283986 -0.595891       1.016493\n",
       "1   -1.296919    1.294765 -0.546786       1.101855\n",
       "2   -1.293785    1.451709 -0.496990       1.067460\n",
       "3   -1.080665    1.447053 -0.175071       0.683925\n",
       "4   -1.084844    1.334852  0.005610       0.836059\n",
       "..        ...         ...       ...            ...\n",
       "796 -0.472646    0.604659  0.784612      -0.404718\n",
       "797 -0.313851    0.488331  0.847027      -0.429943\n",
       "798 -0.350416    0.464710  0.774555      -0.432346\n",
       "799 -0.298181    0.336066  0.730600      -0.441202\n",
       "800 -0.328477    0.191604  0.569994      -0.437555\n",
       "\n",
       "[801 rows x 4 columns]"
      ]
     },
     "execution_count": 17,
     "metadata": {},
     "output_type": "execute_result"
    }
   ],
   "source": [
    "X_f"
   ]
  },
  {
   "cell_type": "code",
   "execution_count": 18,
   "id": "ebe5c4a9",
   "metadata": {},
   "outputs": [],
   "source": [
    "X_tf=transformer.transform(X_f)"
   ]
  },
  {
   "cell_type": "code",
   "execution_count": 19,
   "id": "a389ee2f",
   "metadata": {},
   "outputs": [],
   "source": [
    "y_pred_knn=knn.predict(X_tf)"
   ]
  },
  {
   "cell_type": "code",
   "execution_count": 20,
   "id": "c454d1a5",
   "metadata": {},
   "outputs": [],
   "source": [
    "y_pred_rf=rf.predict(X_tf)"
   ]
  },
  {
   "cell_type": "code",
   "execution_count": 21,
   "id": "d58f5616",
   "metadata": {},
   "outputs": [],
   "source": [
    "y_pred_gb=gb.predict(X_tf)"
   ]
  },
  {
   "cell_type": "code",
   "execution_count": 22,
   "id": "5534a450",
   "metadata": {},
   "outputs": [
    {
     "data": {
      "image/png": "[encoded data removed]",
      "text/plain": [
       "<Figure size 1800x500 with 3 Axes>"
      ]
     },
     "metadata": {},
     "output_type": "display_data"
    }
   ],
   "source": [
    "# Create confusion matrices\n",
    "cm_knn_rf = confusion_matrix(label_encoder.inverse_transform(y_pred_knn), label_encoder.inverse_transform(y_pred_rf))\n",
    "cm_knn_gb = confusion_matrix(label_encoder.inverse_transform(y_pred_gb), label_encoder.inverse_transform(y_pred_knn))\n",
    "cm_rf_gb = confusion_matrix(label_encoder.inverse_transform(y_pred_rf), label_encoder.inverse_transform(y_pred_gb))\n",
    "\n",
    "class_labels = label_encoder.classes_\n",
    "\n",
    "# Create a figure with subplots\n",
    "fig, axes = plt.subplots(nrows=1, ncols=3, figsize=(18, 5))\n",
    "\n",
    "# Plot confusion matrices\n",
    "sns.heatmap(cm_knn_rf, annot=True, fmt='d', cmap='Blues', cbar=False, ax=axes[0], xticklabels=class_labels, yticklabels=class_labels)\n",
    "axes[0].set_title('KNN vs Random Forest')\n",
    "\n",
    "sns.heatmap(cm_knn_gb, annot=True, fmt='d', cmap='Blues', cbar=False, ax=axes[1], xticklabels=class_labels, yticklabels=class_labels)\n",
    "axes[1].set_title('Gradient Boosting vs KNN')\n",
    "\n",
    "sns.heatmap(cm_rf_gb, annot=True, fmt='d', cmap='Blues', cbar=False, ax=axes[2], xticklabels=class_labels, yticklabels=class_labels)\n",
    "axes[2].set_title('Random Forest vs Gradient Boosting')\n",
    "\n",
    "# Adjust layout\n",
    "plt.tight_layout()\n",
    "\n",
    "# Save the plot as a PDF file\n",
    "plt.savefig('classifier_comparison_knn_rf_gb.pdf')\n",
    "\n",
    "# Display the plot\n",
    "plt.show()"
   ]
  },
  {
   "cell_type": "code",
   "execution_count": 23,
   "id": "cf91979e",
   "metadata": {},
   "outputs": [],
   "source": [
    "y_pred_mean = np.mean([y_pred_knn, y_pred_rf, y_pred_gb], axis=0)\n",
    "\n",
    "# Round the mean predictions to the nearest integer (assuming classes are integers)\n",
    "y_pred_mean_rounded = np.round(y_pred_mean).astype(int)\n"
   ]
  },
  {
   "cell_type": "code",
   "execution_count": 24,
   "id": "2380b81f",
   "metadata": {},
   "outputs": [],
   "source": [
    "output=X.copy()"
   ]
  },
  {
   "cell_type": "code",
   "execution_count": 25,
   "id": "7e10c7f2",
   "metadata": {},
   "outputs": [],
   "source": [
    "output['Mean Prediciton']=label_encoder.inverse_transform(y_pred_mean_rounded)"
   ]
  },
  {
   "cell_type": "code",
   "execution_count": 26,
   "id": "1e9d500f",
   "metadata": {},
   "outputs": [
    {
     "data": {
      "text/html": [
       "<div>\n",
       "<style scoped>\n",
       "    .dataframe tbody tr th:only-of-type {\n",
       "        vertical-align: middle;\n",
       "    }\n",
       "\n",
       "    .dataframe tbody tr th {\n",
       "        vertical-align: top;\n",
       "    }\n",
       "\n",
       "    .dataframe thead th {\n",
       "        text-align: right;\n",
       "    }\n",
       "</style>\n",
       "<table border=\"1\" class=\"dataframe\">\n",
       "  <thead>\n",
       "    <tr style=\"text-align: right;\">\n",
       "      <th></th>\n",
       "      <th>GR</th>\n",
       "      <th>RT</th>\n",
       "      <th>RHOB</th>\n",
       "      <th>NPHI</th>\n",
       "      <th>RHOB_Cross</th>\n",
       "      <th>Log_GR</th>\n",
       "      <th>RT_NPHI_Ratio</th>\n",
       "      <th>Mean Prediciton</th>\n",
       "    </tr>\n",
       "    <tr>\n",
       "      <th>Depth</th>\n",
       "      <th></th>\n",
       "      <th></th>\n",
       "      <th></th>\n",
       "      <th></th>\n",
       "      <th></th>\n",
       "      <th></th>\n",
       "      <th></th>\n",
       "      <th></th>\n",
       "    </tr>\n",
       "  </thead>\n",
       "  <tbody>\n",
       "    <tr>\n",
       "      <th>4175.5</th>\n",
       "      <td>20.6032</td>\n",
       "      <td>4.1812</td>\n",
       "      <td>2.6117</td>\n",
       "      <td>0.0770</td>\n",
       "      <td>6.820977</td>\n",
       "      <td>1.313935</td>\n",
       "      <td>54.301299</td>\n",
       "      <td>CB</td>\n",
       "    </tr>\n",
       "    <tr>\n",
       "      <th>4176.0</th>\n",
       "      <td>21.4990</td>\n",
       "      <td>4.5516</td>\n",
       "      <td>2.6131</td>\n",
       "      <td>0.0798</td>\n",
       "      <td>6.828292</td>\n",
       "      <td>1.332418</td>\n",
       "      <td>57.037594</td>\n",
       "      <td>CB</td>\n",
       "    </tr>\n",
       "    <tr>\n",
       "      <th>4176.5</th>\n",
       "      <td>22.4472</td>\n",
       "      <td>4.4804</td>\n",
       "      <td>2.6334</td>\n",
       "      <td>0.0801</td>\n",
       "      <td>6.934796</td>\n",
       "      <td>1.351162</td>\n",
       "      <td>55.935081</td>\n",
       "      <td>CB</td>\n",
       "    </tr>\n",
       "    <tr>\n",
       "      <th>4177.0</th>\n",
       "      <td>29.6713</td>\n",
       "      <td>4.3859</td>\n",
       "      <td>2.6328</td>\n",
       "      <td>0.1005</td>\n",
       "      <td>6.931636</td>\n",
       "      <td>1.472337</td>\n",
       "      <td>43.640796</td>\n",
       "      <td>CB</td>\n",
       "    </tr>\n",
       "    <tr>\n",
       "      <th>4177.5</th>\n",
       "      <td>34.7014</td>\n",
       "      <td>4.8566</td>\n",
       "      <td>2.6183</td>\n",
       "      <td>0.1001</td>\n",
       "      <td>6.855495</td>\n",
       "      <td>1.540347</td>\n",
       "      <td>48.517483</td>\n",
       "      <td>CB</td>\n",
       "    </tr>\n",
       "  </tbody>\n",
       "</table>\n",
       "</div>"
      ],
      "text/plain": [
       "             GR      RT    RHOB    NPHI  RHOB_Cross    Log_GR  RT_NPHI_Ratio  \\\n",
       "Depth                                                                          \n",
       "4175.5  20.6032  4.1812  2.6117  0.0770    6.820977  1.313935      54.301299   \n",
       "4176.0  21.4990  4.5516  2.6131  0.0798    6.828292  1.332418      57.037594   \n",
       "4176.5  22.4472  4.4804  2.6334  0.0801    6.934796  1.351162      55.935081   \n",
       "4177.0  29.6713  4.3859  2.6328  0.1005    6.931636  1.472337      43.640796   \n",
       "4177.5  34.7014  4.8566  2.6183  0.1001    6.855495  1.540347      48.517483   \n",
       "\n",
       "       Mean Prediciton  \n",
       "Depth                   \n",
       "4175.5              CB  \n",
       "4176.0              CB  \n",
       "4176.5              CB  \n",
       "4177.0              CB  \n",
       "4177.5              CB  "
      ]
     },
     "execution_count": 26,
     "metadata": {},
     "output_type": "execute_result"
    }
   ],
   "source": [
    "output.head()"
   ]
  },
  {
   "cell_type": "code",
   "execution_count": 27,
   "id": "f987df26",
   "metadata": {},
   "outputs": [],
   "source": [
    "output.reset_index(inplace=True)"
   ]
  },
  {
   "cell_type": "code",
   "execution_count": 28,
   "id": "b46bd1d2",
   "metadata": {},
   "outputs": [],
   "source": [
    "output[['Depth','Log_GR','GR','Mean Prediciton']].to_excel('Prediction.xlsx',index=False)"
   ]
  }
 ],
 "metadata": {
  "kernelspec": {
   "display_name": "Python 3 (ipykernel)",
   "language": "python",
   "name": "python3"
  },
  "language_info": {
   "codemirror_mode": {
    "name": "ipython",
    "version": 3
   },
   "file_extension": ".py",
   "mimetype": "text/x-python",
   "name": "python",
   "nbconvert_exporter": "python",
   "pygments_lexer": "ipython3",
   "version": "3.11.5"
  }
 },
 "nbformat": 4,
 "nbformat_minor": 5
}
