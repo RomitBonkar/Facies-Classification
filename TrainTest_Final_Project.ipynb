{
 "cells": [
  {
   "cell_type": "markdown",
   "id": "4dc97bf8",
   "metadata": {},
   "source": [
    "# Name : Romit Bonkar\n"
   ]
  },
  {
   "cell_type": "code",
   "execution_count": 1,
   "id": "6ddd93e6",
   "metadata": {},
   "outputs": [],
   "source": [
    "import pandas as pd\n",
    "import numpy as np\n",
    "from sklearn.model_selection import train_test_split\n",
    "from sklearn.preprocessing import StandardScaler, QuantileTransformer, LabelEncoder\n",
    "from sklearn.ensemble import GradientBoostingClassifier, AdaBoostClassifier, RandomForestClassifier\n",
    "from sklearn.neighbors import KNeighborsClassifier\n",
    "from sklearn.linear_model import LogisticRegression\n",
    "from sklearn.naive_bayes import GaussianNB\n",
    "from sklearn.svm import SVC\n",
    "from sklearn.neural_network import MLPClassifier\n",
    "from sklearn.model_selection import GridSearchCV\n",
    "from sklearn import metrics\n",
    "from sklearn.metrics import confusion_matrix, ConfusionMatrixDisplay\n",
    "import pickle\n",
    "import seaborn as sns\n",
    "import matplotlib.pyplot as plt"
   ]
  },
  {
   "cell_type": "code",
   "execution_count": 2,
   "id": "c7b6e36c",
   "metadata": {},
   "outputs": [],
   "source": [
    "df1=pd.read_excel('VolveData_Project.xlsx',sheet_name='well 14')\n",
    "df2=pd.read_excel('VolveData_Project.xlsx',sheet_name='well 15')"
   ]
  },
  {
   "cell_type": "code",
   "execution_count": 3,
   "id": "362a7802",
   "metadata": {},
   "outputs": [],
   "source": [
    "df=pd.concat([df1,df2],axis=0)"
   ]
  },
  {
   "cell_type": "code",
   "execution_count": 4,
   "id": "e3f99d8f",
   "metadata": {},
   "outputs": [
    {
     "data": {
      "text/html": [
       "<div>\n",
       "<style scoped>\n",
       "    .dataframe tbody tr th:only-of-type {\n",
       "        vertical-align: middle;\n",
       "    }\n",
       "\n",
       "    .dataframe tbody tr th {\n",
       "        vertical-align: top;\n",
       "    }\n",
       "\n",
       "    .dataframe thead th {\n",
       "        text-align: right;\n",
       "    }\n",
       "</style>\n",
       "<table border=\"1\" class=\"dataframe\">\n",
       "  <thead>\n",
       "    <tr style=\"text-align: right;\">\n",
       "      <th></th>\n",
       "      <th>Depth</th>\n",
       "      <th>Well</th>\n",
       "      <th>GR</th>\n",
       "      <th>RT</th>\n",
       "      <th>RHOB</th>\n",
       "      <th>NPHI</th>\n",
       "      <th>Facies</th>\n",
       "    </tr>\n",
       "  </thead>\n",
       "  <tbody>\n",
       "    <tr>\n",
       "      <th>0</th>\n",
       "      <td>3178.5</td>\n",
       "      <td>14</td>\n",
       "      <td>50.2190</td>\n",
       "      <td>0.5888</td>\n",
       "      <td>2.3296</td>\n",
       "      <td>0.3657</td>\n",
       "      <td>SH</td>\n",
       "    </tr>\n",
       "    <tr>\n",
       "      <th>1</th>\n",
       "      <td>3179.0</td>\n",
       "      <td>14</td>\n",
       "      <td>47.2468</td>\n",
       "      <td>0.7768</td>\n",
       "      <td>2.3170</td>\n",
       "      <td>0.3776</td>\n",
       "      <td>UN</td>\n",
       "    </tr>\n",
       "    <tr>\n",
       "      <th>2</th>\n",
       "      <td>3179.5</td>\n",
       "      <td>14</td>\n",
       "      <td>49.5247</td>\n",
       "      <td>1.0707</td>\n",
       "      <td>2.2960</td>\n",
       "      <td>0.5390</td>\n",
       "      <td>SH</td>\n",
       "    </tr>\n",
       "    <tr>\n",
       "      <th>3</th>\n",
       "      <td>3180.0</td>\n",
       "      <td>14</td>\n",
       "      <td>44.9124</td>\n",
       "      <td>1.4460</td>\n",
       "      <td>2.2514</td>\n",
       "      <td>0.5482</td>\n",
       "      <td>UN</td>\n",
       "    </tr>\n",
       "    <tr>\n",
       "      <th>4</th>\n",
       "      <td>3180.5</td>\n",
       "      <td>14</td>\n",
       "      <td>47.0048</td>\n",
       "      <td>0.9542</td>\n",
       "      <td>2.2733</td>\n",
       "      <td>0.5076</td>\n",
       "      <td>UN</td>\n",
       "    </tr>\n",
       "  </tbody>\n",
       "</table>\n",
       "</div>"
      ],
      "text/plain": [
       "    Depth  Well       GR      RT    RHOB    NPHI Facies\n",
       "0  3178.5    14  50.2190  0.5888  2.3296  0.3657     SH\n",
       "1  3179.0    14  47.2468  0.7768  2.3170  0.3776     UN\n",
       "2  3179.5    14  49.5247  1.0707  2.2960  0.5390     SH\n",
       "3  3180.0    14  44.9124  1.4460  2.2514  0.5482     UN\n",
       "4  3180.5    14  47.0048  0.9542  2.2733  0.5076     UN"
      ]
     },
     "execution_count": 4,
     "metadata": {},
     "output_type": "execute_result"
    }
   ],
   "source": [
    "df.head()"
   ]
  },
  {
   "cell_type": "code",
   "execution_count": 5,
   "id": "16220b81",
   "metadata": {},
   "outputs": [],
   "source": [
    "df.drop(columns=['Well','Depth'],inplace=True)"
   ]
  },
  {
   "cell_type": "markdown",
   "id": "c672ee19",
   "metadata": {},
   "source": [
    "# 3 New Features"
   ]
  },
  {
   "cell_type": "code",
   "execution_count": 6,
   "id": "b6d5ba01",
   "metadata": {},
   "outputs": [],
   "source": [
    "# New Feature 1:\n",
    "df['RHOB_Cross'] = df['RHOB'] * df['RHOB']\n",
    "\n",
    "# New Feature 2:\n",
    "df['Log_GR'] =  np.log10(df.GR)\n",
    "\n",
    "# New Feature 3:\n",
    "df['RT_NPHI_Ratio'] = df['RT'] / df['NPHI']"
   ]
  },
  {
   "cell_type": "code",
   "execution_count": 7,
   "id": "04dc19a5",
   "metadata": {},
   "outputs": [
    {
     "data": {
      "text/html": [
       "<div>\n",
       "<style scoped>\n",
       "    .dataframe tbody tr th:only-of-type {\n",
       "        vertical-align: middle;\n",
       "    }\n",
       "\n",
       "    .dataframe tbody tr th {\n",
       "        vertical-align: top;\n",
       "    }\n",
       "\n",
       "    .dataframe thead th {\n",
       "        text-align: right;\n",
       "    }\n",
       "</style>\n",
       "<table border=\"1\" class=\"dataframe\">\n",
       "  <thead>\n",
       "    <tr style=\"text-align: right;\">\n",
       "      <th></th>\n",
       "      <th>GR</th>\n",
       "      <th>RT</th>\n",
       "      <th>RHOB</th>\n",
       "      <th>NPHI</th>\n",
       "      <th>Facies</th>\n",
       "      <th>RHOB_Cross</th>\n",
       "      <th>Log_GR</th>\n",
       "      <th>RT_NPHI_Ratio</th>\n",
       "    </tr>\n",
       "  </thead>\n",
       "  <tbody>\n",
       "    <tr>\n",
       "      <th>0</th>\n",
       "      <td>50.2190</td>\n",
       "      <td>0.5888</td>\n",
       "      <td>2.3296</td>\n",
       "      <td>0.3657</td>\n",
       "      <td>SH</td>\n",
       "      <td>5.427036</td>\n",
       "      <td>1.700868</td>\n",
       "      <td>1.610063</td>\n",
       "    </tr>\n",
       "    <tr>\n",
       "      <th>1</th>\n",
       "      <td>47.2468</td>\n",
       "      <td>0.7768</td>\n",
       "      <td>2.3170</td>\n",
       "      <td>0.3776</td>\n",
       "      <td>UN</td>\n",
       "      <td>5.368489</td>\n",
       "      <td>1.674372</td>\n",
       "      <td>2.057203</td>\n",
       "    </tr>\n",
       "    <tr>\n",
       "      <th>2</th>\n",
       "      <td>49.5247</td>\n",
       "      <td>1.0707</td>\n",
       "      <td>2.2960</td>\n",
       "      <td>0.5390</td>\n",
       "      <td>SH</td>\n",
       "      <td>5.271616</td>\n",
       "      <td>1.694822</td>\n",
       "      <td>1.986456</td>\n",
       "    </tr>\n",
       "    <tr>\n",
       "      <th>3</th>\n",
       "      <td>44.9124</td>\n",
       "      <td>1.4460</td>\n",
       "      <td>2.2514</td>\n",
       "      <td>0.5482</td>\n",
       "      <td>UN</td>\n",
       "      <td>5.068802</td>\n",
       "      <td>1.652366</td>\n",
       "      <td>2.637723</td>\n",
       "    </tr>\n",
       "    <tr>\n",
       "      <th>4</th>\n",
       "      <td>47.0048</td>\n",
       "      <td>0.9542</td>\n",
       "      <td>2.2733</td>\n",
       "      <td>0.5076</td>\n",
       "      <td>UN</td>\n",
       "      <td>5.167893</td>\n",
       "      <td>1.672142</td>\n",
       "      <td>1.879827</td>\n",
       "    </tr>\n",
       "  </tbody>\n",
       "</table>\n",
       "</div>"
      ],
      "text/plain": [
       "        GR      RT    RHOB    NPHI Facies  RHOB_Cross    Log_GR  RT_NPHI_Ratio\n",
       "0  50.2190  0.5888  2.3296  0.3657     SH    5.427036  1.700868       1.610063\n",
       "1  47.2468  0.7768  2.3170  0.3776     UN    5.368489  1.674372       2.057203\n",
       "2  49.5247  1.0707  2.2960  0.5390     SH    5.271616  1.694822       1.986456\n",
       "3  44.9124  1.4460  2.2514  0.5482     UN    5.068802  1.652366       2.637723\n",
       "4  47.0048  0.9542  2.2733  0.5076     UN    5.167893  1.672142       1.879827"
      ]
     },
     "execution_count": 7,
     "metadata": {},
     "output_type": "execute_result"
    }
   ],
   "source": [
    "df.head()"
   ]
  },
  {
   "cell_type": "code",
   "execution_count": 8,
   "id": "1a8a3d12",
   "metadata": {},
   "outputs": [
    {
     "data": {
      "text/plain": [
       "CB    1249\n",
       "SS     997\n",
       "SH     871\n",
       "UN     124\n",
       "Name: Facies, dtype: int64"
      ]
     },
     "execution_count": 8,
     "metadata": {},
     "output_type": "execute_result"
    }
   ],
   "source": [
    "df.Facies.value_counts()"
   ]
  },
  {
   "cell_type": "code",
   "execution_count": 9,
   "id": "ded95587",
   "metadata": {},
   "outputs": [
    {
     "data": {
      "text/plain": [
       "GR               False\n",
       "RT               False\n",
       "RHOB             False\n",
       "NPHI             False\n",
       "Facies           False\n",
       "RHOB_Cross       False\n",
       "Log_GR           False\n",
       "RT_NPHI_Ratio    False\n",
       "dtype: bool"
      ]
     },
     "execution_count": 9,
     "metadata": {},
     "output_type": "execute_result"
    }
   ],
   "source": [
    "df.isna().any() #check if NaN are present"
   ]
  },
  {
   "cell_type": "code",
   "execution_count": 10,
   "id": "9bf430ea",
   "metadata": {},
   "outputs": [],
   "source": [
    "# provide a list of items that should be considered as missing.\n",
    "# using inplace to save the replacement of various missing values.\n",
    "\n",
    "df.replace([np.inf, -np.inf, np.inf, -999, 999, '', \" \", 'inf', 'NaN'], np.nan, inplace=True)"
   ]
  },
  {
   "cell_type": "code",
   "execution_count": 11,
   "id": "6d53a4b8",
   "metadata": {},
   "outputs": [],
   "source": [
    "label_encoder = LabelEncoder()\n",
    "df['facies']=label_encoder.fit_transform(df.Facies)"
   ]
  },
  {
   "cell_type": "code",
   "execution_count": 12,
   "id": "86dc3a37",
   "metadata": {},
   "outputs": [],
   "source": [
    "filename = 'fp_label.sav'\n",
    "\n",
    "pickle.dump(label_encoder, open(filename, 'wb'))"
   ]
  },
  {
   "cell_type": "code",
   "execution_count": 13,
   "id": "e2eedb74",
   "metadata": {},
   "outputs": [
    {
     "data": {
      "text/plain": [
       "Index(['GR', 'RT', 'RHOB', 'NPHI', 'Facies', 'RHOB_Cross', 'Log_GR',\n",
       "       'RT_NPHI_Ratio', 'facies'],\n",
       "      dtype='object')"
      ]
     },
     "execution_count": 13,
     "metadata": {},
     "output_type": "execute_result"
    }
   ],
   "source": [
    "df.columns"
   ]
  },
  {
   "cell_type": "code",
   "execution_count": 14,
   "id": "a7d0df05",
   "metadata": {},
   "outputs": [],
   "source": [
    "X=df[[ 'GR', 'RT', 'RHOB', 'NPHI', 'RHOB_Cross','Log_GR', 'RT_NPHI_Ratio']]\n",
    "y=df['facies']\n",
    "X_train, X_test, y_train, y_test = train_test_split(X, y, test_size=0.2, random_state=42, stratify=y)"
   ]
  },
  {
   "cell_type": "code",
   "execution_count": 15,
   "id": "cf2ff017",
   "metadata": {},
   "outputs": [
    {
     "data": {
      "text/plain": [
       "array([1, 1, 1, ..., 1, 1, 1])"
      ]
     },
     "execution_count": 15,
     "metadata": {},
     "output_type": "execute_result"
    }
   ],
   "source": [
    "from sklearn.ensemble import IsolationForest\n",
    "out = IsolationForest(contamination = 0.05)\n",
    "out.fit(X_train)\n",
    "in_out=out.predict(X_train)\n",
    "in_out"
   ]
  },
  {
   "cell_type": "code",
   "execution_count": 16,
   "id": "95635191",
   "metadata": {},
   "outputs": [],
   "source": [
    "X_train_i = X_train[in_out==1]\n",
    "y_train_i = y_train[in_out==1]"
   ]
  },
  {
   "cell_type": "code",
   "execution_count": 17,
   "id": "f5e7d147",
   "metadata": {},
   "outputs": [],
   "source": [
    "X_test_i =X_test[out.predict(X_test)==1]\n",
    "y_test_i =y_test[out.predict(X_test)==1]"
   ]
  },
  {
   "cell_type": "code",
   "execution_count": 18,
   "id": "2719f763",
   "metadata": {},
   "outputs": [],
   "source": [
    "filename = 'fp_out.sav'\n",
    "\n",
    "pickle.dump(out, open(filename, 'wb'))"
   ]
  },
  {
   "cell_type": "code",
   "execution_count": 19,
   "id": "72d7fb1b",
   "metadata": {},
   "outputs": [],
   "source": [
    "from sklearn.preprocessing import StandardScaler\n",
    "scl= StandardScaler()\n",
    "scl.fit(X_train_i)\n",
    "X_train_s=scl.transform(X_train_i)\n",
    "X_test_s=scl.transform(X_test_i)\n",
    "X_test_s = pd.DataFrame(X_test_s, columns=[ 'GR', 'RT', 'RHOB', 'NPHI', 'RHOB_Cross','Log_GR', 'RT_NPHI_Ratio'])\n",
    "X_train_s = pd.DataFrame(X_train_s, columns=[  'GR', 'RT', 'RHOB', 'NPHI', 'RHOB_Cross','Log_GR', 'RT_NPHI_Ratio'])"
   ]
  },
  {
   "cell_type": "code",
   "execution_count": 20,
   "id": "a680cbb8",
   "metadata": {},
   "outputs": [],
   "source": [
    "filename = 'fp_scl.sav'\n",
    "\n",
    "pickle.dump(scl, open(filename, 'wb'))"
   ]
  },
  {
   "cell_type": "code",
   "execution_count": 21,
   "id": "0dbfd55a",
   "metadata": {},
   "outputs": [],
   "source": [
    "# from scipy.stats import pearsonr\n",
    "\n",
    "# # Calculate the correlation matrix\n",
    "# correlation_matrix = np.corrcoef(X_train_s, rowvar=False)\n",
    "\n",
    "# # Display the correlation matrix\n",
    "# print(\"Correlation Matrix:\")\n",
    "# print(correlation_matrix)\n",
    "\n",
    "# # # Check for collinearity between variable 0 and variable 1\n",
    "# corr_coefficient, p_value = pearsonr(X_train_s, data[:, 1])\n"
   ]
  },
  {
   "cell_type": "code",
   "execution_count": 22,
   "id": "ff931438",
   "metadata": {},
   "outputs": [],
   "source": [
    "correlation_matrix = X_train_s.corr()"
   ]
  },
  {
   "cell_type": "code",
   "execution_count": 23,
   "id": "80d7b66a",
   "metadata": {},
   "outputs": [
    {
     "data": {
      "text/html": [
       "<div>\n",
       "<style scoped>\n",
       "    .dataframe tbody tr th:only-of-type {\n",
       "        vertical-align: middle;\n",
       "    }\n",
       "\n",
       "    .dataframe tbody tr th {\n",
       "        vertical-align: top;\n",
       "    }\n",
       "\n",
       "    .dataframe thead th {\n",
       "        text-align: right;\n",
       "    }\n",
       "</style>\n",
       "<table border=\"1\" class=\"dataframe\">\n",
       "  <thead>\n",
       "    <tr style=\"text-align: right;\">\n",
       "      <th></th>\n",
       "      <th>GR</th>\n",
       "      <th>RT</th>\n",
       "      <th>RHOB</th>\n",
       "      <th>NPHI</th>\n",
       "      <th>RHOB_Cross</th>\n",
       "      <th>Log_GR</th>\n",
       "      <th>RT_NPHI_Ratio</th>\n",
       "    </tr>\n",
       "  </thead>\n",
       "  <tbody>\n",
       "    <tr>\n",
       "      <th>GR</th>\n",
       "      <td>1.000000</td>\n",
       "      <td>-0.165205</td>\n",
       "      <td>-0.079832</td>\n",
       "      <td>0.744085</td>\n",
       "      <td>-0.088837</td>\n",
       "      <td>0.910827</td>\n",
       "      <td>-0.373321</td>\n",
       "    </tr>\n",
       "    <tr>\n",
       "      <th>RT</th>\n",
       "      <td>-0.165205</td>\n",
       "      <td>1.000000</td>\n",
       "      <td>0.171670</td>\n",
       "      <td>-0.270077</td>\n",
       "      <td>0.173140</td>\n",
       "      <td>-0.253542</td>\n",
       "      <td>0.788037</td>\n",
       "    </tr>\n",
       "    <tr>\n",
       "      <th>RHOB</th>\n",
       "      <td>-0.079832</td>\n",
       "      <td>0.171670</td>\n",
       "      <td>1.000000</td>\n",
       "      <td>-0.437107</td>\n",
       "      <td>0.999515</td>\n",
       "      <td>-0.181311</td>\n",
       "      <td>0.367917</td>\n",
       "    </tr>\n",
       "    <tr>\n",
       "      <th>NPHI</th>\n",
       "      <td>0.744085</td>\n",
       "      <td>-0.270077</td>\n",
       "      <td>-0.437107</td>\n",
       "      <td>1.000000</td>\n",
       "      <td>-0.441837</td>\n",
       "      <td>0.767623</td>\n",
       "      <td>-0.532012</td>\n",
       "    </tr>\n",
       "    <tr>\n",
       "      <th>RHOB_Cross</th>\n",
       "      <td>-0.088837</td>\n",
       "      <td>0.173140</td>\n",
       "      <td>0.999515</td>\n",
       "      <td>-0.441837</td>\n",
       "      <td>1.000000</td>\n",
       "      <td>-0.189292</td>\n",
       "      <td>0.374232</td>\n",
       "    </tr>\n",
       "    <tr>\n",
       "      <th>Log_GR</th>\n",
       "      <td>0.910827</td>\n",
       "      <td>-0.253542</td>\n",
       "      <td>-0.181311</td>\n",
       "      <td>0.767623</td>\n",
       "      <td>-0.189292</td>\n",
       "      <td>1.000000</td>\n",
       "      <td>-0.532541</td>\n",
       "    </tr>\n",
       "    <tr>\n",
       "      <th>RT_NPHI_Ratio</th>\n",
       "      <td>-0.373321</td>\n",
       "      <td>0.788037</td>\n",
       "      <td>0.367917</td>\n",
       "      <td>-0.532012</td>\n",
       "      <td>0.374232</td>\n",
       "      <td>-0.532541</td>\n",
       "      <td>1.000000</td>\n",
       "    </tr>\n",
       "  </tbody>\n",
       "</table>\n",
       "</div>"
      ],
      "text/plain": [
       "                     GR        RT      RHOB      NPHI  RHOB_Cross    Log_GR  \\\n",
       "GR             1.000000 -0.165205 -0.079832  0.744085   -0.088837  0.910827   \n",
       "RT            -0.165205  1.000000  0.171670 -0.270077    0.173140 -0.253542   \n",
       "RHOB          -0.079832  0.171670  1.000000 -0.437107    0.999515 -0.181311   \n",
       "NPHI           0.744085 -0.270077 -0.437107  1.000000   -0.441837  0.767623   \n",
       "RHOB_Cross    -0.088837  0.173140  0.999515 -0.441837    1.000000 -0.189292   \n",
       "Log_GR         0.910827 -0.253542 -0.181311  0.767623   -0.189292  1.000000   \n",
       "RT_NPHI_Ratio -0.373321  0.788037  0.367917 -0.532012    0.374232 -0.532541   \n",
       "\n",
       "               RT_NPHI_Ratio  \n",
       "GR                 -0.373321  \n",
       "RT                  0.788037  \n",
       "RHOB                0.367917  \n",
       "NPHI               -0.532012  \n",
       "RHOB_Cross          0.374232  \n",
       "Log_GR             -0.532541  \n",
       "RT_NPHI_Ratio       1.000000  "
      ]
     },
     "execution_count": 23,
     "metadata": {},
     "output_type": "execute_result"
    }
   ],
   "source": [
    "correlation_matrix"
   ]
  },
  {
   "cell_type": "code",
   "execution_count": 24,
   "id": "4565a3e7",
   "metadata": {},
   "outputs": [
    {
     "data": {
      "text/plain": [
       "<Axes: >"
      ]
     },
     "execution_count": 24,
     "metadata": {},
     "output_type": "execute_result"
    },
    {
     "data": {
      "image/png": "[encoded data removed]",
      "text/plain": [
       "<Figure size 640x480 with 2 Axes>"
      ]
     },
     "metadata": {},
     "output_type": "display_data"
    }
   ],
   "source": [
    "sns.heatmap(correlation_matrix)"
   ]
  },
  {
   "cell_type": "code",
   "execution_count": null,
   "id": "301e64c6",
   "metadata": {},
   "outputs": [],
   "source": []
  },
  {
   "cell_type": "code",
   "execution_count": 25,
   "id": "51c83e35",
   "metadata": {},
   "outputs": [],
   "source": [
    "corr_matrix = X_train_s.corr().abs()\n",
    "\n",
    "# Select upper triangle of correlation matrix\n",
    "upper = correlation_matrix.where(np.tril(np.ones(correlation_matrix.shape), k=-1).astype(bool))\n",
    "\n",
    "# Find features with correlation greater than 0.90\n",
    "to_drop = [column for column in upper.columns if any(upper[column] > 0.90)]\n",
    "\n",
    "# # Drop features \n",
    "# df.drop(to_drop, axis=1, inplace=True)"
   ]
  },
  {
   "cell_type": "code",
   "execution_count": 26,
   "id": "c0be4988",
   "metadata": {},
   "outputs": [
    {
     "data": {
      "text/plain": [
       "['GR', 'RHOB']"
      ]
     },
     "execution_count": 26,
     "metadata": {},
     "output_type": "execute_result"
    }
   ],
   "source": [
    "to_drop"
   ]
  },
  {
   "cell_type": "code",
   "execution_count": 27,
   "id": "5542e1ab",
   "metadata": {},
   "outputs": [],
   "source": [
    "filename = 'fp_noncol.sav'\n",
    "\n",
    "pickle.dump(to_drop, open(filename, 'wb'))"
   ]
  },
  {
   "cell_type": "code",
   "execution_count": 28,
   "id": "4943a795",
   "metadata": {},
   "outputs": [],
   "source": [
    "X_train_no_collinearity=X_train_s.drop(to_drop, axis=1)\n",
    "X_test_no_collinearity=X_test_s.drop(to_drop, axis=1)"
   ]
  },
  {
   "cell_type": "code",
   "execution_count": 29,
   "id": "7937e828",
   "metadata": {},
   "outputs": [],
   "source": [
    "from sklearn.feature_selection import mutual_info_regression,f_regression\n",
    "\n",
    "mi = mutual_info_regression(X_train_no_collinearity, y_train_i)\n",
    "mi /= np.max(mi)"
   ]
  },
  {
   "cell_type": "code",
   "execution_count": 30,
   "id": "610798d0",
   "metadata": {},
   "outputs": [],
   "source": [
    "f_test, p = f_regression(X_train_no_collinearity, y_train_i)\n",
    "f_test /= np.max(f_test) # normalize f value\n"
   ]
  },
  {
   "cell_type": "code",
   "execution_count": 31,
   "id": "5d5cf37c",
   "metadata": {},
   "outputs": [],
   "source": [
    "filename = 'fp_mi.sav'\n",
    "\n",
    "pickle.dump(mi, open(filename, 'wb'))"
   ]
  },
  {
   "cell_type": "code",
   "execution_count": 32,
   "id": "447282ea",
   "metadata": {},
   "outputs": [],
   "source": [
    "filename = 'fp_ftest.sav'\n",
    "\n",
    "pickle.dump(f_test, open(filename, 'wb'))"
   ]
  },
  {
   "cell_type": "code",
   "execution_count": 33,
   "id": "57ebd8ae",
   "metadata": {},
   "outputs": [
    {
     "data": {
      "image/png": "[encoded data removed]",
      "text/plain": [
       "<Figure size 640x480 with 1 Axes>"
      ]
     },
     "metadata": {},
     "output_type": "display_data"
    }
   ],
   "source": [
    "plt.figure()\n",
    "plt.plot(f_test, 'o')\n",
    "plt.plot(0.3*np.ones(len(f_test)))\n",
    "plt.ylabel('f_test value')\n",
    "plt.xlabel('features')\n",
    "plt.show()\n",
    "## find the threshold"
   ]
  },
  {
   "cell_type": "code",
   "execution_count": 34,
   "id": "29ba4c77",
   "metadata": {},
   "outputs": [
    {
     "data": {
      "image/png": "[encoded data removed]",
      "text/plain": [
       "<Figure size 640x480 with 1 Axes>"
      ]
     },
     "metadata": {},
     "output_type": "display_data"
    }
   ],
   "source": [
    "plt.figure()\n",
    "plt.plot(mi, 'o')\n",
    "plt.plot(0.6*np.ones(len(mi)))\n",
    "plt.ylabel('mi value')\n",
    "plt.xlabel('features')\n",
    "plt.show()"
   ]
  },
  {
   "cell_type": "code",
   "execution_count": 35,
   "id": "3461d670",
   "metadata": {},
   "outputs": [],
   "source": [
    "# X_train_mi = X_train_no_collinearity.iloc[:,(mi > .6)]\n",
    "# X_test_mi = X_test_no_collinearity.iloc[:,(mi > 0.6)]\n",
    "# X_train_mi.shape"
   ]
  },
  {
   "cell_type": "code",
   "execution_count": 36,
   "id": "e8314941",
   "metadata": {},
   "outputs": [
    {
     "data": {
      "text/html": [
       "<div>\n",
       "<style scoped>\n",
       "    .dataframe tbody tr th:only-of-type {\n",
       "        vertical-align: middle;\n",
       "    }\n",
       "\n",
       "    .dataframe tbody tr th {\n",
       "        vertical-align: top;\n",
       "    }\n",
       "\n",
       "    .dataframe thead th {\n",
       "        text-align: right;\n",
       "    }\n",
       "</style>\n",
       "<table border=\"1\" class=\"dataframe\">\n",
       "  <thead>\n",
       "    <tr style=\"text-align: right;\">\n",
       "      <th></th>\n",
       "      <th>NPHI</th>\n",
       "      <th>RHOB_Cross</th>\n",
       "      <th>Log_GR</th>\n",
       "      <th>RT_NPHI_Ratio</th>\n",
       "    </tr>\n",
       "  </thead>\n",
       "  <tbody>\n",
       "    <tr>\n",
       "      <th>0</th>\n",
       "      <td>0.250290</td>\n",
       "      <td>-1.641669</td>\n",
       "      <td>0.020233</td>\n",
       "      <td>1.207959</td>\n",
       "    </tr>\n",
       "    <tr>\n",
       "      <th>1</th>\n",
       "      <td>0.328643</td>\n",
       "      <td>1.375018</td>\n",
       "      <td>1.039501</td>\n",
       "      <td>-0.463344</td>\n",
       "    </tr>\n",
       "    <tr>\n",
       "      <th>2</th>\n",
       "      <td>0.466544</td>\n",
       "      <td>0.427863</td>\n",
       "      <td>1.200741</td>\n",
       "      <td>-0.348726</td>\n",
       "    </tr>\n",
       "    <tr>\n",
       "      <th>3</th>\n",
       "      <td>1.018148</td>\n",
       "      <td>-1.060612</td>\n",
       "      <td>0.610037</td>\n",
       "      <td>-0.612813</td>\n",
       "    </tr>\n",
       "    <tr>\n",
       "      <th>4</th>\n",
       "      <td>-0.139385</td>\n",
       "      <td>-0.165211</td>\n",
       "      <td>0.628399</td>\n",
       "      <td>-0.428065</td>\n",
       "    </tr>\n",
       "    <tr>\n",
       "      <th>...</th>\n",
       "      <td>...</td>\n",
       "      <td>...</td>\n",
       "      <td>...</td>\n",
       "      <td>...</td>\n",
       "    </tr>\n",
       "    <tr>\n",
       "      <th>2457</th>\n",
       "      <td>0.667127</td>\n",
       "      <td>-2.299745</td>\n",
       "      <td>-0.129839</td>\n",
       "      <td>-0.643139</td>\n",
       "    </tr>\n",
       "    <tr>\n",
       "      <th>2458</th>\n",
       "      <td>-0.034915</td>\n",
       "      <td>-1.242183</td>\n",
       "      <td>-0.139398</td>\n",
       "      <td>-0.605345</td>\n",
       "    </tr>\n",
       "    <tr>\n",
       "      <th>2459</th>\n",
       "      <td>-0.668006</td>\n",
       "      <td>0.244731</td>\n",
       "      <td>-0.170580</td>\n",
       "      <td>-0.162788</td>\n",
       "    </tr>\n",
       "    <tr>\n",
       "      <th>2460</th>\n",
       "      <td>-0.674275</td>\n",
       "      <td>0.171268</td>\n",
       "      <td>-1.446293</td>\n",
       "      <td>-0.192104</td>\n",
       "    </tr>\n",
       "    <tr>\n",
       "      <th>2461</th>\n",
       "      <td>-0.079837</td>\n",
       "      <td>-1.154013</td>\n",
       "      <td>-0.381575</td>\n",
       "      <td>-0.624567</td>\n",
       "    </tr>\n",
       "  </tbody>\n",
       "</table>\n",
       "<p>2462 rows × 4 columns</p>\n",
       "</div>"
      ],
      "text/plain": [
       "          NPHI  RHOB_Cross    Log_GR  RT_NPHI_Ratio\n",
       "0     0.250290   -1.641669  0.020233       1.207959\n",
       "1     0.328643    1.375018  1.039501      -0.463344\n",
       "2     0.466544    0.427863  1.200741      -0.348726\n",
       "3     1.018148   -1.060612  0.610037      -0.612813\n",
       "4    -0.139385   -0.165211  0.628399      -0.428065\n",
       "...        ...         ...       ...            ...\n",
       "2457  0.667127   -2.299745 -0.129839      -0.643139\n",
       "2458 -0.034915   -1.242183 -0.139398      -0.605345\n",
       "2459 -0.668006    0.244731 -0.170580      -0.162788\n",
       "2460 -0.674275    0.171268 -1.446293      -0.192104\n",
       "2461 -0.079837   -1.154013 -0.381575      -0.624567\n",
       "\n",
       "[2462 rows x 4 columns]"
      ]
     },
     "execution_count": 36,
     "metadata": {},
     "output_type": "execute_result"
    }
   ],
   "source": [
    "X_train_f = X_train_no_collinearity.loc[:,(f_test > 0.3) | (mi > 0.6)] #### Feature Selection using f values (f>0.3) or MI values (mi>0.2)]\n",
    "\n",
    "X_train_f"
   ]
  },
  {
   "cell_type": "code",
   "execution_count": 37,
   "id": "71ee1ae8",
   "metadata": {},
   "outputs": [],
   "source": [
    "X_test_f=X_test_no_collinearity.loc[:,(f_test > 0.3) | (mi > 0.6)]\n"
   ]
  },
  {
   "cell_type": "code",
   "execution_count": 38,
   "id": "5e108cab",
   "metadata": {},
   "outputs": [
    {
     "data": {
      "text/html": [
       "<div>\n",
       "<style scoped>\n",
       "    .dataframe tbody tr th:only-of-type {\n",
       "        vertical-align: middle;\n",
       "    }\n",
       "\n",
       "    .dataframe tbody tr th {\n",
       "        vertical-align: top;\n",
       "    }\n",
       "\n",
       "    .dataframe thead th {\n",
       "        text-align: right;\n",
       "    }\n",
       "</style>\n",
       "<table border=\"1\" class=\"dataframe\">\n",
       "  <thead>\n",
       "    <tr style=\"text-align: right;\">\n",
       "      <th></th>\n",
       "      <th>NPHI</th>\n",
       "      <th>RHOB_Cross</th>\n",
       "      <th>Log_GR</th>\n",
       "      <th>RT_NPHI_Ratio</th>\n",
       "    </tr>\n",
       "  </thead>\n",
       "  <tbody>\n",
       "    <tr>\n",
       "      <th>0</th>\n",
       "      <td>4.428066</td>\n",
       "      <td>0.366859</td>\n",
       "      <td>1.149991</td>\n",
       "      <td>-0.592079</td>\n",
       "    </tr>\n",
       "    <tr>\n",
       "      <th>1</th>\n",
       "      <td>-1.165286</td>\n",
       "      <td>1.026263</td>\n",
       "      <td>-1.055042</td>\n",
       "      <td>1.149029</td>\n",
       "    </tr>\n",
       "    <tr>\n",
       "      <th>2</th>\n",
       "      <td>-0.844562</td>\n",
       "      <td>0.376400</td>\n",
       "      <td>-0.976413</td>\n",
       "      <td>-0.188526</td>\n",
       "    </tr>\n",
       "    <tr>\n",
       "      <th>3</th>\n",
       "      <td>1.630345</td>\n",
       "      <td>-0.734387</td>\n",
       "      <td>0.458026</td>\n",
       "      <td>-0.578698</td>\n",
       "    </tr>\n",
       "    <tr>\n",
       "      <th>4</th>\n",
       "      <td>-0.061033</td>\n",
       "      <td>-1.480037</td>\n",
       "      <td>0.056814</td>\n",
       "      <td>-0.596403</td>\n",
       "    </tr>\n",
       "    <tr>\n",
       "      <th>...</th>\n",
       "      <td>...</td>\n",
       "      <td>...</td>\n",
       "      <td>...</td>\n",
       "      <td>...</td>\n",
       "    </tr>\n",
       "    <tr>\n",
       "      <th>611</th>\n",
       "      <td>1.433941</td>\n",
       "      <td>-1.320567</td>\n",
       "      <td>0.512503</td>\n",
       "      <td>-0.637932</td>\n",
       "    </tr>\n",
       "    <tr>\n",
       "      <th>612</th>\n",
       "      <td>0.256558</td>\n",
       "      <td>-0.343717</td>\n",
       "      <td>-1.219523</td>\n",
       "      <td>-0.496511</td>\n",
       "    </tr>\n",
       "    <tr>\n",
       "      <th>613</th>\n",
       "      <td>0.720407</td>\n",
       "      <td>0.063441</td>\n",
       "      <td>1.194750</td>\n",
       "      <td>-0.492921</td>\n",
       "    </tr>\n",
       "    <tr>\n",
       "      <th>614</th>\n",
       "      <td>-0.291912</td>\n",
       "      <td>1.033102</td>\n",
       "      <td>0.267878</td>\n",
       "      <td>-0.332519</td>\n",
       "    </tr>\n",
       "    <tr>\n",
       "      <th>615</th>\n",
       "      <td>-0.376534</td>\n",
       "      <td>-1.053196</td>\n",
       "      <td>-0.391749</td>\n",
       "      <td>2.066428</td>\n",
       "    </tr>\n",
       "  </tbody>\n",
       "</table>\n",
       "<p>616 rows × 4 columns</p>\n",
       "</div>"
      ],
      "text/plain": [
       "         NPHI  RHOB_Cross    Log_GR  RT_NPHI_Ratio\n",
       "0    4.428066    0.366859  1.149991      -0.592079\n",
       "1   -1.165286    1.026263 -1.055042       1.149029\n",
       "2   -0.844562    0.376400 -0.976413      -0.188526\n",
       "3    1.630345   -0.734387  0.458026      -0.578698\n",
       "4   -0.061033   -1.480037  0.056814      -0.596403\n",
       "..        ...         ...       ...            ...\n",
       "611  1.433941   -1.320567  0.512503      -0.637932\n",
       "612  0.256558   -0.343717 -1.219523      -0.496511\n",
       "613  0.720407    0.063441  1.194750      -0.492921\n",
       "614 -0.291912    1.033102  0.267878      -0.332519\n",
       "615 -0.376534   -1.053196 -0.391749       2.066428\n",
       "\n",
       "[616 rows x 4 columns]"
      ]
     },
     "execution_count": 38,
     "metadata": {},
     "output_type": "execute_result"
    }
   ],
   "source": [
    "X_test_f"
   ]
  },
  {
   "cell_type": "code",
   "execution_count": 39,
   "id": "2503723e",
   "metadata": {},
   "outputs": [],
   "source": [
    "transformer = QuantileTransformer(output_distribution='normal')"
   ]
  },
  {
   "cell_type": "code",
   "execution_count": 40,
   "id": "d330cfbd",
   "metadata": {},
   "outputs": [],
   "source": [
    "X_train_tf=transformer.fit_transform(X_train_f)\n",
    "X_test_tf=transformer.transform(X_test_f)\n"
   ]
  },
  {
   "cell_type": "code",
   "execution_count": 41,
   "id": "49f9e3cf",
   "metadata": {},
   "outputs": [],
   "source": [
    "filename = 'fp_qt.sav'\n",
    "\n",
    "pickle.dump(transformer, open(filename, 'wb'))"
   ]
  },
  {
   "cell_type": "markdown",
   "id": "9d452023",
   "metadata": {},
   "source": [
    "# Logistic Regression "
   ]
  },
  {
   "cell_type": "code",
   "execution_count": 42,
   "id": "f085b8e6",
   "metadata": {},
   "outputs": [
    {
     "data": {
      "text/html": [
       "<style>#sk-container-id-1 {color: black;}#sk-container-id-1 pre{padding: 0;}#sk-container-id-1 div.sk-toggleable {background-color: white;}#sk-container-id-1 label.sk-toggleable__label {cursor: pointer;display: block;width: 100%;margin-bottom: 0;padding: 0.3em;box-sizing: border-box;text-align: center;}#sk-container-id-1 label.sk-toggleable__label-arrow:before {content: \"▸\";float: left;margin-right: 0.25em;color: #696969;}#sk-container-id-1 label.sk-toggleable__label-arrow:hover:before {color: black;}#sk-container-id-1 div.sk-estimator:hover label.sk-toggleable__label-arrow:before {color: black;}#sk-container-id-1 div.sk-toggleable__content {max-height: 0;max-width: 0;overflow: hidden;text-align: left;background-color: #f0f8ff;}#sk-container-id-1 div.sk-toggleable__content pre {margin: 0.2em;color: black;border-radius: 0.25em;background-color: #f0f8ff;}#sk-container-id-1 input.sk-toggleable__control:checked~div.sk-toggleable__content {max-height: 200px;max-width: 100%;overflow: auto;}#sk-container-id-1 input.sk-toggleable__control:checked~label.sk-toggleable__label-arrow:before {content: \"▾\";}#sk-container-id-1 div.sk-estimator input.sk-toggleable__control:checked~label.sk-toggleable__label {background-color: #d4ebff;}#sk-container-id-1 div.sk-label input.sk-toggleable__control:checked~label.sk-toggleable__label {background-color: #d4ebff;}#sk-container-id-1 input.sk-hidden--visually {border: 0;clip: rect(1px 1px 1px 1px);clip: rect(1px, 1px, 1px, 1px);height: 1px;margin: -1px;overflow: hidden;padding: 0;position: absolute;width: 1px;}#sk-container-id-1 div.sk-estimator {font-family: monospace;background-color: #f0f8ff;border: 1px dotted black;border-radius: 0.25em;box-sizing: border-box;margin-bottom: 0.5em;}#sk-container-id-1 div.sk-estimator:hover {background-color: #d4ebff;}#sk-container-id-1 div.sk-parallel-item::after {content: \"\";width: 100%;border-bottom: 1px solid gray;flex-grow: 1;}#sk-container-id-1 div.sk-label:hover label.sk-toggleable__label {background-color: #d4ebff;}#sk-container-id-1 div.sk-serial::before {content: \"\";position: absolute;border-left: 1px solid gray;box-sizing: border-box;top: 0;bottom: 0;left: 50%;z-index: 0;}#sk-container-id-1 div.sk-serial {display: flex;flex-direction: column;align-items: center;background-color: white;padding-right: 0.2em;padding-left: 0.2em;position: relative;}#sk-container-id-1 div.sk-item {position: relative;z-index: 1;}#sk-container-id-1 div.sk-parallel {display: flex;align-items: stretch;justify-content: center;background-color: white;position: relative;}#sk-container-id-1 div.sk-item::before, #sk-container-id-1 div.sk-parallel-item::before {content: \"\";position: absolute;border-left: 1px solid gray;box-sizing: border-box;top: 0;bottom: 0;left: 50%;z-index: -1;}#sk-container-id-1 div.sk-parallel-item {display: flex;flex-direction: column;z-index: 1;position: relative;background-color: white;}#sk-container-id-1 div.sk-parallel-item:first-child::after {align-self: flex-end;width: 50%;}#sk-container-id-1 div.sk-parallel-item:last-child::after {align-self: flex-start;width: 50%;}#sk-container-id-1 div.sk-parallel-item:only-child::after {width: 0;}#sk-container-id-1 div.sk-dashed-wrapped {border: 1px dashed gray;margin: 0 0.4em 0.5em 0.4em;box-sizing: border-box;padding-bottom: 0.4em;background-color: white;}#sk-container-id-1 div.sk-label label {font-family: monospace;font-weight: bold;display: inline-block;line-height: 1.2em;}#sk-container-id-1 div.sk-label-container {text-align: center;}#sk-container-id-1 div.sk-container {/* jupyter's `normalize.less` sets `[hidden] { display: none; }` but bootstrap.min.css set `[hidden] { display: none !important; }` so we also need the `!important` here to be able to override the default hidden behavior on the sphinx rendered scikit-learn.org. See: https://github.com/scikit-learn/scikit-learn/issues/21755 */display: inline-block !important;position: relative;}#sk-container-id-1 div.sk-text-repr-fallback {display: none;}</style><div id=\"sk-container-id-1\" class=\"sk-top-container\"><div class=\"sk-text-repr-fallback\"><pre>LogisticRegression(max_iter=1000)</pre><b>In a Jupyter environment, please rerun this cell to show the HTML representation or trust the notebook. <br />On GitHub, the HTML representation is unable to render, please try loading this page with nbviewer.org.</b></div><div class=\"sk-container\" hidden><div class=\"sk-item\"><div class=\"sk-estimator sk-toggleable\"><input class=\"sk-toggleable__control sk-hidden--visually\" id=\"sk-estimator-id-1\" type=\"checkbox\" checked><label for=\"sk-estimator-id-1\" class=\"sk-toggleable__label sk-toggleable__label-arrow\">LogisticRegression</label><div class=\"sk-toggleable__content\"><pre>LogisticRegression(max_iter=1000)</pre></div></div></div></div></div>"
      ],
      "text/plain": [
       "LogisticRegression(max_iter=1000)"
      ]
     },
     "execution_count": 42,
     "metadata": {},
     "output_type": "execute_result"
    }
   ],
   "source": [
    "lr_model = LogisticRegression(max_iter=1000)\n",
    "\n",
    "# Fit the model\n",
    "lr_model.fit(X_train_tf, y_train_i)"
   ]
  },
  {
   "cell_type": "code",
   "execution_count": 43,
   "id": "21071db6",
   "metadata": {},
   "outputs": [],
   "source": [
    "filename = 'fp_lr.sav'\n",
    "\n",
    "pickle.dump(lr_model, open(filename, 'wb'))"
   ]
  },
  {
   "cell_type": "markdown",
   "id": "054d3ed4",
   "metadata": {},
   "source": [
    "# KNN"
   ]
  },
  {
   "cell_type": "code",
   "execution_count": 44,
   "id": "3481573a",
   "metadata": {},
   "outputs": [],
   "source": [
    "# 3.2 K-Nearest Neighbor\n",
    "knn_model = KNeighborsClassifier()\n",
    "knn_params = {'n_neighbors': [3, 5, 7, 9], 'weights': ['uniform', 'distance']}\n",
    "knn_grid = GridSearchCV(knn_model, knn_params, cv=5, scoring='f1_macro', n_jobs=-1)\n",
    "knn_grid.fit(X_train_tf, y_train_i)\n",
    "knn_best_model = knn_grid.best_estimator_\n"
   ]
  },
  {
   "cell_type": "code",
   "execution_count": 45,
   "id": "459e69ac",
   "metadata": {},
   "outputs": [],
   "source": [
    "filename = 'fp_knn.sav'\n",
    "\n",
    "pickle.dump(knn_best_model, open(filename, 'wb'))"
   ]
  },
  {
   "cell_type": "markdown",
   "id": "23b57d78",
   "metadata": {},
   "source": [
    "# Gradient Boost"
   ]
  },
  {
   "cell_type": "code",
   "execution_count": 46,
   "id": "5d225c22",
   "metadata": {},
   "outputs": [],
   "source": [
    "# 3.3 Gradient Boosting Classifier\n",
    "gb_model = GradientBoostingClassifier()\n",
    "gb_params = {'n_estimators': [50, 100, 150], 'learning_rate': [0.01, 0.1, 0.2], 'max_depth': [3, 5, 7]}\n",
    "gb_grid = GridSearchCV(gb_model, gb_params, cv=5, scoring='f1_macro', n_jobs=-1)\n",
    "gb_grid.fit(X_train_tf, y_train_i)\n",
    "gb_best_model = gb_grid.best_estimator_\n"
   ]
  },
  {
   "cell_type": "code",
   "execution_count": 47,
   "id": "4777d7c1",
   "metadata": {},
   "outputs": [],
   "source": [
    "filename = 'fp_gbr.sav'\n",
    "\n",
    "pickle.dump(gb_best_model, open(filename, 'wb'))"
   ]
  },
  {
   "cell_type": "markdown",
   "id": "2972be59",
   "metadata": {},
   "source": [
    "# Adaboost "
   ]
  },
  {
   "cell_type": "code",
   "execution_count": 48,
   "id": "e51efdba",
   "metadata": {},
   "outputs": [],
   "source": [
    "adaboost_model = AdaBoostClassifier()\n",
    "adaboost_params = {'n_estimators': [50, 100, 150], 'learning_rate': [0.01, 0.1, 0.2]}\n",
    "adaboost_grid = GridSearchCV(adaboost_model, adaboost_params, cv=5, scoring='f1_macro', n_jobs=-1)\n",
    "adaboost_grid.fit(X_train_tf, y_train_i)\n",
    "adaboost_best_model = adaboost_grid.best_estimator_"
   ]
  },
  {
   "cell_type": "code",
   "execution_count": 49,
   "id": "b87d6679",
   "metadata": {},
   "outputs": [],
   "source": [
    "filename = 'fp_ada.sav'\n",
    "\n",
    "pickle.dump(adaboost_best_model, open(filename, 'wb'))"
   ]
  },
  {
   "cell_type": "markdown",
   "id": "e4907ba0",
   "metadata": {},
   "source": [
    "# Gaussian Naive Bayes"
   ]
  },
  {
   "cell_type": "code",
   "execution_count": 50,
   "id": "3fd93579",
   "metadata": {},
   "outputs": [
    {
     "data": {
      "text/html": [
       "<style>#sk-container-id-2 {color: black;}#sk-container-id-2 pre{padding: 0;}#sk-container-id-2 div.sk-toggleable {background-color: white;}#sk-container-id-2 label.sk-toggleable__label {cursor: pointer;display: block;width: 100%;margin-bottom: 0;padding: 0.3em;box-sizing: border-box;text-align: center;}#sk-container-id-2 label.sk-toggleable__label-arrow:before {content: \"▸\";float: left;margin-right: 0.25em;color: #696969;}#sk-container-id-2 label.sk-toggleable__label-arrow:hover:before {color: black;}#sk-container-id-2 div.sk-estimator:hover label.sk-toggleable__label-arrow:before {color: black;}#sk-container-id-2 div.sk-toggleable__content {max-height: 0;max-width: 0;overflow: hidden;text-align: left;background-color: #f0f8ff;}#sk-container-id-2 div.sk-toggleable__content pre {margin: 0.2em;color: black;border-radius: 0.25em;background-color: #f0f8ff;}#sk-container-id-2 input.sk-toggleable__control:checked~div.sk-toggleable__content {max-height: 200px;max-width: 100%;overflow: auto;}#sk-container-id-2 input.sk-toggleable__control:checked~label.sk-toggleable__label-arrow:before {content: \"▾\";}#sk-container-id-2 div.sk-estimator input.sk-toggleable__control:checked~label.sk-toggleable__label {background-color: #d4ebff;}#sk-container-id-2 div.sk-label input.sk-toggleable__control:checked~label.sk-toggleable__label {background-color: #d4ebff;}#sk-container-id-2 input.sk-hidden--visually {border: 0;clip: rect(1px 1px 1px 1px);clip: rect(1px, 1px, 1px, 1px);height: 1px;margin: -1px;overflow: hidden;padding: 0;position: absolute;width: 1px;}#sk-container-id-2 div.sk-estimator {font-family: monospace;background-color: #f0f8ff;border: 1px dotted black;border-radius: 0.25em;box-sizing: border-box;margin-bottom: 0.5em;}#sk-container-id-2 div.sk-estimator:hover {background-color: #d4ebff;}#sk-container-id-2 div.sk-parallel-item::after {content: \"\";width: 100%;border-bottom: 1px solid gray;flex-grow: 1;}#sk-container-id-2 div.sk-label:hover label.sk-toggleable__label {background-color: #d4ebff;}#sk-container-id-2 div.sk-serial::before {content: \"\";position: absolute;border-left: 1px solid gray;box-sizing: border-box;top: 0;bottom: 0;left: 50%;z-index: 0;}#sk-container-id-2 div.sk-serial {display: flex;flex-direction: column;align-items: center;background-color: white;padding-right: 0.2em;padding-left: 0.2em;position: relative;}#sk-container-id-2 div.sk-item {position: relative;z-index: 1;}#sk-container-id-2 div.sk-parallel {display: flex;align-items: stretch;justify-content: center;background-color: white;position: relative;}#sk-container-id-2 div.sk-item::before, #sk-container-id-2 div.sk-parallel-item::before {content: \"\";position: absolute;border-left: 1px solid gray;box-sizing: border-box;top: 0;bottom: 0;left: 50%;z-index: -1;}#sk-container-id-2 div.sk-parallel-item {display: flex;flex-direction: column;z-index: 1;position: relative;background-color: white;}#sk-container-id-2 div.sk-parallel-item:first-child::after {align-self: flex-end;width: 50%;}#sk-container-id-2 div.sk-parallel-item:last-child::after {align-self: flex-start;width: 50%;}#sk-container-id-2 div.sk-parallel-item:only-child::after {width: 0;}#sk-container-id-2 div.sk-dashed-wrapped {border: 1px dashed gray;margin: 0 0.4em 0.5em 0.4em;box-sizing: border-box;padding-bottom: 0.4em;background-color: white;}#sk-container-id-2 div.sk-label label {font-family: monospace;font-weight: bold;display: inline-block;line-height: 1.2em;}#sk-container-id-2 div.sk-label-container {text-align: center;}#sk-container-id-2 div.sk-container {/* jupyter's `normalize.less` sets `[hidden] { display: none; }` but bootstrap.min.css set `[hidden] { display: none !important; }` so we also need the `!important` here to be able to override the default hidden behavior on the sphinx rendered scikit-learn.org. See: https://github.com/scikit-learn/scikit-learn/issues/21755 */display: inline-block !important;position: relative;}#sk-container-id-2 div.sk-text-repr-fallback {display: none;}</style><div id=\"sk-container-id-2\" class=\"sk-top-container\"><div class=\"sk-text-repr-fallback\"><pre>GaussianNB()</pre><b>In a Jupyter environment, please rerun this cell to show the HTML representation or trust the notebook. <br />On GitHub, the HTML representation is unable to render, please try loading this page with nbviewer.org.</b></div><div class=\"sk-container\" hidden><div class=\"sk-item\"><div class=\"sk-estimator sk-toggleable\"><input class=\"sk-toggleable__control sk-hidden--visually\" id=\"sk-estimator-id-2\" type=\"checkbox\" checked><label for=\"sk-estimator-id-2\" class=\"sk-toggleable__label sk-toggleable__label-arrow\">GaussianNB</label><div class=\"sk-toggleable__content\"><pre>GaussianNB()</pre></div></div></div></div></div>"
      ],
      "text/plain": [
       "GaussianNB()"
      ]
     },
     "execution_count": 50,
     "metadata": {},
     "output_type": "execute_result"
    }
   ],
   "source": [
    "nb_model = GaussianNB()\n",
    "nb_params = {}  # No hyperparameters to tune for Gaussian Naive Bayes\n",
    "nb_best_model = nb_model\n",
    "nb_best_model.fit(X_train_tf, y_train_i)"
   ]
  },
  {
   "cell_type": "code",
   "execution_count": 51,
   "id": "e273e688",
   "metadata": {},
   "outputs": [],
   "source": [
    "filename = 'fp_nb.sav'\n",
    "\n",
    "pickle.dump(nb_best_model, open(filename, 'wb'))"
   ]
  },
  {
   "cell_type": "markdown",
   "id": "94230609",
   "metadata": {},
   "source": [
    "# Support Vector Machine"
   ]
  },
  {
   "cell_type": "code",
   "execution_count": 52,
   "id": "9b825ee0",
   "metadata": {},
   "outputs": [],
   "source": [
    "svm_model = SVC()\n",
    "svm_params = {'C': [0.1, 1, 10], 'gamma': ['scale', 'auto'], 'kernel': ['linear', 'rbf']}\n",
    "svm_grid = GridSearchCV(svm_model, svm_params, cv=5, scoring='f1_macro', n_jobs=-1)\n",
    "svm_grid.fit(X_train_tf, y_train_i)\n",
    "svm_best_model = svm_grid.best_estimator_"
   ]
  },
  {
   "cell_type": "code",
   "execution_count": 53,
   "id": "b5dd6497",
   "metadata": {},
   "outputs": [],
   "source": [
    "filename = 'fp_svm.sav'\n",
    "\n",
    "pickle.dump(svm_best_model, open(filename, 'wb'))"
   ]
  },
  {
   "cell_type": "markdown",
   "id": "1f343636",
   "metadata": {},
   "source": [
    "# Random Forest"
   ]
  },
  {
   "cell_type": "code",
   "execution_count": 54,
   "id": "6a03dd02",
   "metadata": {},
   "outputs": [],
   "source": [
    "rf_model = RandomForestClassifier()\n",
    "rf_params = {'n_estimators': [50, 100, 150], 'max_depth': [None, 10, 20], 'min_samples_split': [2, 5, 10]}\n",
    "rf_grid = GridSearchCV(rf_model, rf_params, cv=5, scoring='f1_macro', n_jobs=-1)\n",
    "rf_grid.fit(X_train_tf, y_train_i)\n",
    "rf_best_model = rf_grid.best_estimator_"
   ]
  },
  {
   "cell_type": "code",
   "execution_count": 55,
   "id": "d8db1045",
   "metadata": {},
   "outputs": [],
   "source": [
    "filename = 'fp_rf.sav'\n",
    "\n",
    "pickle.dump(rf_best_model, open(filename, 'wb'))"
   ]
  },
  {
   "cell_type": "markdown",
   "id": "9bc52e10",
   "metadata": {},
   "source": [
    "# Neural Network"
   ]
  },
  {
   "cell_type": "code",
   "execution_count": 56,
   "id": "77c4ff8e",
   "metadata": {},
   "outputs": [],
   "source": [
    "nn_model = MLPClassifier(max_iter=1000)\n",
    "nn_params = {'hidden_layer_sizes': [(50,), (100,), (50, 50)], 'alpha': [0.0001, 0.001, 0.01]}\n",
    "nn_grid = GridSearchCV(nn_model, nn_params, cv=5, scoring='f1_macro', n_jobs=-1)\n",
    "nn_grid.fit(X_train_tf, y_train_i)\n",
    "nn_best_model = nn_grid.best_estimator_"
   ]
  },
  {
   "cell_type": "code",
   "execution_count": 57,
   "id": "218fe62e",
   "metadata": {},
   "outputs": [],
   "source": [
    "filename = 'fp_nn.sav'\n",
    "\n",
    "pickle.dump(nn_best_model, open(filename, 'wb'))"
   ]
  },
  {
   "cell_type": "code",
   "execution_count": 58,
   "id": "fc6ea0c6",
   "metadata": {
    "scrolled": true
   },
   "outputs": [
    {
     "name": "stdout",
     "output_type": "stream",
     "text": [
      "\n",
      "Metrics for Logistic Regression:\n",
      "f1_score: 0.802475445981396\n",
      "roc_auc_score: 0.929616000157632\n",
      "matthews_corrcoef: 0.7272635953797265\n",
      "\n",
      "Metrics for K-Nearest Neighbor:\n",
      "f1_score: 0.85210961675114\n",
      "roc_auc_score: 0.929616000157632\n",
      "matthews_corrcoef: 0.7843562948205022\n",
      "\n",
      "Metrics for Gradient Boosting:\n",
      "f1_score: 0.8565997684125548\n",
      "roc_auc_score: 0.929616000157632\n",
      "matthews_corrcoef: 0.793069641900634\n",
      "\n",
      "Metrics for Adaboost:\n",
      "f1_score: 0.8386491632141801\n",
      "roc_auc_score: 0.929616000157632\n",
      "matthews_corrcoef: 0.762659736951\n",
      "\n",
      "Metrics for Gaussian Naive Bayes:\n",
      "f1_score: 0.789924831191675\n",
      "roc_auc_score: 0.929616000157632\n",
      "matthews_corrcoef: 0.6939273329702486\n",
      "\n",
      "Metrics for Support Vector Machine:\n",
      "f1_score: 0.841417496893115\n",
      "roc_auc_score: 0.929616000157632\n",
      "matthews_corrcoef: 0.7729327470019598\n",
      "\n",
      "Metrics for Random Forest:\n",
      "f1_score: 0.8575876426057326\n",
      "roc_auc_score: 0.929616000157632\n",
      "matthews_corrcoef: 0.7935971768892174\n",
      "\n",
      "Metrics for Neural Network:\n",
      "f1_score: 0.8509330705065214\n",
      "roc_auc_score: 0.929616000157632\n",
      "matthews_corrcoef: 0.783320210398305\n"
     ]
    }
   ],
   "source": [
    "metrics_list = ['f1_score', 'roc_auc_score', 'matthews_corrcoef']\n",
    "\n",
    "for model, name in [(lr_model, 'Logistic Regression'), (knn_best_model, 'K-Nearest Neighbor'),\n",
    "                    (gb_best_model, 'Gradient Boosting'), (adaboost_best_model, 'Adaboost'),\n",
    "                    (nb_best_model, 'Gaussian Naive Bayes'), (svm_best_model, 'Support Vector Machine'),\n",
    "                    (rf_best_model, 'Random Forest'), (nn_best_model, 'Neural Network')]:\n",
    "    y_pred = model.predict(X_test_tf)\n",
    "    print(f\"\\nMetrics for {name}:\")\n",
    "    for metric in metrics_list:\n",
    "        if metric == 'roc_auc_score':\n",
    "            # ROC AUC does not support 'weighted' average\n",
    "            if lr_model.classes_.shape[0] > 2:\n",
    "                score = metrics.roc_auc_score(y_test_i, lr_model.predict_proba(X_test_tf), multi_class='ovr')\n",
    "            else:\n",
    "                score = metrics.roc_auc_score(y_test_i, lr_model.predict_proba(X_test_tf)[:, 1])\n",
    "        elif metric == 'matthews_corrcoef':\n",
    "            score = metrics.matthews_corrcoef(y_test_i, y_pred)\n",
    "        \n",
    "        else:\n",
    "            score = getattr(metrics, metric)(y_test_i, y_pred, average='weighted')\n",
    "        print(f\"{metric}: {score}\")"
   ]
  },
  {
   "cell_type": "markdown",
   "id": "866b3939",
   "metadata": {},
   "source": [
    "The metrics mentioned (F1 Score, Area under the Curve (AUC), and Matthews correlation coefficient (MCC)) do consider class imbalance to some extent, but each has its characteristics.\n",
    "\n",
    "F1 Score:\n",
    "\n",
    "F1 Score is the harmonic mean of precision and recall. It is effective in scenarios where there is an uneven class distribution because it balances false positives and false negatives.\n",
    "However, F1 Score does not consider true negatives, which might be important in certain contexts.\n",
    "Area under the Curve (AUC):\n",
    "\n",
    "AUC is often used in binary classification problems, and it represents the ability of the model to distinguish between positive and negative classes.\n",
    "AUC can be a good metric for imbalanced datasets, as it considers both true positive rate (sensitivity) and false positive rate.\n",
    "Matthews Correlation Coefficient (MCC):\n",
    "\n",
    "MCC takes into account true positives, true negatives, false positives, and false negatives, providing a balanced measure even for imbalanced datasets.\n",
    "MCC ranges from -1 (perfect negative correlation) to +1 (perfect positive correlation), with 0 indicating no correlation.\n",
    "While these metrics do account for class imbalance, the choice of the \"best\" metric depends on the specific characteristics of your dataset and the goals of your classification task. In imbalanced datasets, F1 Score and MCC are often preferred as they provide a balanced assessment of model performance across different classes.\n",
    "\n",
    "### But for our project I think F1 is the best metric\n"
   ]
  },
  {
   "cell_type": "code",
   "execution_count": 59,
   "id": "b0d91196",
   "metadata": {},
   "outputs": [
    {
     "name": "stdout",
     "output_type": "stream",
     "text": [
      "\n",
      "Confusion Matrix for Logistic Regression:\n",
      "[[195   1  43   0]\n",
      " [  6 151   2   3]\n",
      " [ 30   5 155   0]\n",
      " [  4  10  10   1]]\n"
     ]
    },
    {
     "data": {
      "image/png": "[encoded data removed]",
      "text/plain": [
       "<Figure size 640x480 with 2 Axes>"
      ]
     },
     "metadata": {},
     "output_type": "display_data"
    },
    {
     "name": "stdout",
     "output_type": "stream",
     "text": [
      "\n",
      "Confusion Matrix for K-Nearest Neighbor:\n",
      "[[205   0  33   1]\n",
      " [  2 147   5   8]\n",
      " [ 21   4 163   2]\n",
      " [  2   4   9  10]]\n"
     ]
    },
    {
     "data": {
      "image/png": "[encoded data removed]",
      "text/plain": [
       "<Figure size 640x480 with 2 Axes>"
      ]
     },
     "metadata": {},
     "output_type": "display_data"
    },
    {
     "name": "stdout",
     "output_type": "stream",
     "text": [
      "\n",
      "Confusion Matrix for Gradient Boosting:\n",
      "[[203   1  34   1]\n",
      " [  1 154   2   5]\n",
      " [ 25   0 163   2]\n",
      " [  4   5   7   9]]\n"
     ]
    },
    {
     "data": {
      "image/png": "[encoded data removed]",
      "text/plain": [
       "<Figure size 640x480 with 2 Axes>"
      ]
     },
     "metadata": {},
     "output_type": "display_data"
    },
    {
     "name": "stdout",
     "output_type": "stream",
     "text": [
      "\n",
      "Confusion Matrix for Adaboost:\n",
      "[[191   1  43   4]\n",
      " [  2 143   3  14]\n",
      " [ 15   4 168   3]\n",
      " [  4   2   7  12]]\n"
     ]
    },
    {
     "data": {
      "image/png": "[encoded data removed]",
      "text/plain": [
       "<Figure size 640x480 with 2 Axes>"
      ]
     },
     "metadata": {},
     "output_type": "display_data"
    },
    {
     "name": "stdout",
     "output_type": "stream",
     "text": [
      "\n",
      "Confusion Matrix for Gaussian Naive Bayes:\n",
      "[[185   0  53   1]\n",
      " [  9 142   0  11]\n",
      " [ 31   5 153   1]\n",
      " [  4   7   7   7]]\n"
     ]
    },
    {
     "data": {
      "image/png": "[encoded data removed]",
      "text/plain": [
       "<Figure size 640x480 with 2 Axes>"
      ]
     },
     "metadata": {},
     "output_type": "display_data"
    },
    {
     "name": "stdout",
     "output_type": "stream",
     "text": [
      "\n",
      "Confusion Matrix for Support Vector Machine:\n",
      "[[206   1  31   1]\n",
      " [  2 153   3   4]\n",
      " [ 30   3 155   2]\n",
      " [  5   7   6   7]]\n"
     ]
    },
    {
     "data": {
      "image/png": "[encoded data removed]",
      "text/plain": [
       "<Figure size 640x480 with 2 Axes>"
      ]
     },
     "metadata": {},
     "output_type": "display_data"
    },
    {
     "name": "stdout",
     "output_type": "stream",
     "text": [
      "\n",
      "Confusion Matrix for Random Forest:\n",
      "[[202   1  34   2]\n",
      " [  0 156   3   3]\n",
      " [ 23   5 159   3]\n",
      " [  4   4   5  12]]\n"
     ]
    },
    {
     "data": {
      "image/png": "[encoded data removed]",
      "text/plain": [
       "<Figure size 640x480 with 2 Axes>"
      ]
     },
     "metadata": {},
     "output_type": "display_data"
    },
    {
     "name": "stdout",
     "output_type": "stream",
     "text": [
      "\n",
      "Confusion Matrix for Neural Network:\n",
      "[[205   1  31   2]\n",
      " [  1 153   2   6]\n",
      " [ 29   2 157   2]\n",
      " [  3   5   7  10]]\n"
     ]
    },
    {
     "data": {
      "image/png": "[encoded data removed]",
      "text/plain": [
       "<Figure size 640x480 with 2 Axes>"
      ]
     },
     "metadata": {},
     "output_type": "display_data"
    }
   ],
   "source": [
    "import matplotlib.pyplot as plt\n",
    "from sklearn.metrics import confusion_matrix, ConfusionMatrixDisplay,precision_score,recall_score,f1_score,accuracy_score\n",
    "\n",
    "for model, name in [(lr_model, 'Logistic Regression'), (knn_best_model, 'K-Nearest Neighbor'),\n",
    "                    (gb_best_model, 'Gradient Boosting'), (adaboost_best_model, 'Adaboost'),\n",
    "                    (nb_best_model, 'Gaussian Naive Bayes'), (svm_best_model, 'Support Vector Machine'),\n",
    "                    (rf_best_model, 'Random Forest'), (nn_best_model, 'Neural Network')]:\n",
    "    y_pred = model.predict(X_test_tf)\n",
    "    \n",
    "    # Confusion Matrix\n",
    "    cm = confusion_matrix(y_test_i, y_pred)\n",
    "    print(f\"\\nConfusion Matrix for {name}:\\n{cm}\")\n",
    "#     precision = precision_score(y_test_i, y_pred,average='weighted')\n",
    "#     recall = recall_score(y_test_i, y_pred,average='weighted')\n",
    "#     f1 = f1_score(y_test_i, y_pred,average=None)\n",
    "#     accuracy = accuracy_score(y_test_i, y_pred)\n",
    "#     threshold = 0.8\n",
    "\n",
    "#     easily_predicted_f1 = f1.argmax()\n",
    "#     hard_to_predict_f1 = 0\n",
    "\n",
    "#     print(\"\\nEasily Predicted Classes:\")\n",
    "#     print(easily_predicted_f1)\n",
    "#     print(\"\\nHard to Predict Classes:\")\n",
    "#     print(hard_to_predict_f1)\n",
    "    # Display Confusion Matrix\n",
    "    disp = ConfusionMatrixDisplay(confusion_matrix=cm, display_labels=label_encoder.classes_)\n",
    "    disp.plot(cmap='Blues', values_format='d', xticks_rotation='vertical', ax=plt.gca())\n",
    "    plt.title(f\"Confusion Matrix - {name}\")\n",
    "    plt.show()"
   ]
  },
  {
   "cell_type": "code",
   "execution_count": 60,
   "id": "a8b8a729",
   "metadata": {},
   "outputs": [
    {
     "name": "stdout",
     "output_type": "stream",
     "text": [
      "\n",
      "Model: Logistic Regression\n",
      "Easiest Label: SH\n",
      "Hardest Label: UN\n",
      "\n",
      "Model: K-Nearest Neighbor\n",
      "Easiest Label: SH\n",
      "Hardest Label: UN\n",
      "\n",
      "Model: Gradient Boosting\n",
      "Easiest Label: SH\n",
      "Hardest Label: UN\n",
      "\n",
      "Model: Adaboost\n",
      "Easiest Label: SS\n",
      "Hardest Label: UN\n",
      "\n",
      "Model: Gaussian Naive Bayes\n",
      "Easiest Label: SH\n",
      "Hardest Label: UN\n",
      "\n",
      "Model: Support Vector Machine\n",
      "Easiest Label: SH\n",
      "Hardest Label: UN\n",
      "\n",
      "Model: Random Forest\n",
      "Easiest Label: SH\n",
      "Hardest Label: UN\n",
      "\n",
      "Model: Neural Network\n",
      "Easiest Label: SH\n",
      "Hardest Label: UN\n"
     ]
    }
   ],
   "source": [
    "# Assume you have already run the previous code to train and evaluate models\n",
    "\n",
    "# Function to find easiest and hardest labels for a given model\n",
    "def find_easy_hard_labels(model, X_test, y_test):\n",
    "    y_pred = model.predict(X_test)\n",
    "    cm = confusion_matrix(y_test_i, y_pred)\n",
    "    \n",
    "    # Calculate accuracy for each class\n",
    "    class_accuracies = cm.diagonal() / cm.sum(axis=1)\n",
    "    \n",
    "    # Find the index of the easiest and hardest labels\n",
    "    easiest_label = np.argmax(class_accuracies)\n",
    "    hardest_label = np.argmin(class_accuracies)\n",
    "    \n",
    "    return easiest_label, hardest_label\n",
    "\n",
    "# Find easiest and hardest labels for each model\n",
    "\n",
    "for model, name in [(lr_model, 'Logistic Regression'), (knn_best_model, 'K-Nearest Neighbor'),\n",
    "                    (gb_best_model, 'Gradient Boosting'), (adaboost_best_model, 'Adaboost'),\n",
    "                    (nb_best_model, 'Gaussian Naive Bayes'), (svm_best_model, 'Support Vector Machine'),\n",
    "                    (rf_best_model, 'Random Forest'), (nn_best_model, 'Neural Network')]:\n",
    "    \n",
    "    easiest_label, hardest_label = find_easy_hard_labels(model, X_test_tf, y_test)\n",
    "    print(f\"\\nModel: {name}\")\n",
    "    print(f\"Easiest Label: {label_encoder.classes_[easiest_label]}\")\n",
    "    print(f\"Hardest Label: {label_encoder.classes_[hardest_label]}\")\n"
   ]
  },
  {
   "cell_type": "markdown",
   "id": "f94abf80",
   "metadata": {},
   "source": [
    "\n",
    "#### For our dataset based on the confusion matrix, SH is the easiest metric to detect and UN is the hardest to predict"
   ]
  },
  {
   "cell_type": "code",
   "execution_count": 61,
   "id": "09d06752",
   "metadata": {},
   "outputs": [
    {
     "name": "stdout",
     "output_type": "stream",
     "text": [
      "\n",
      "Top 3 Performing Models:\n",
      "Random Forest: F1 Score - 0.7903\n",
      "Gradient Boosting: F1 Score - 0.7671\n",
      "Neural Network: F1 Score - 0.7657\n"
     ]
    }
   ],
   "source": [
    "f1_scores = {}\n",
    "\n",
    "# Evaluate F1 Score for each model\n",
    "for model, name in [(lr_model, 'Logistic Regression'), (knn_best_model, 'K-Nearest Neighbor'),\n",
    "                    (gb_best_model, 'Gradient Boosting'), (adaboost_best_model, 'Adaboost'),\n",
    "                    (nb_best_model, 'Gaussian Naive Bayes'), (svm_best_model, 'Support Vector Machine'),\n",
    "                    (rf_best_model, 'Random Forest'), (nn_best_model, 'Neural Network')]:\n",
    "    y_pred = model.predict(X_test_tf)\n",
    "    f1 = metrics.f1_score(y_test_i, y_pred, average='macro')\n",
    "    f1_scores[name] = f1\n",
    "\n",
    "# Sort the models based on F1 Score in descending order\n",
    "top_models = sorted(f1_scores.items(), key=lambda x: x[1], reverse=True)[:3]\n",
    "\n",
    "# Display the top-performing models\n",
    "print(\"\\nTop 3 Performing Models:\")\n",
    "for model_name, f1_score in top_models:\n",
    "    print(f\"{model_name}: F1 Score - {f1_score:.4f}\")"
   ]
  },
  {
   "cell_type": "markdown",
   "id": "83969ffa",
   "metadata": {},
   "source": [
    "# New Stuff"
   ]
  },
  {
   "cell_type": "markdown",
   "id": "041d2276",
   "metadata": {},
   "source": [
    "Let's explore and demonstrate the use of SHAP (SHapley Additive exPlanations) values, which is a powerful tool for interpreting machine learning models. SHAP values provide a way to explain the output of any machine learning model by attributing the prediction to different features.\n",
    "\n",
    "In this demonstration, I'll use the Random Forest model from the previous examples and generate SHAP summary plots to understand the impact of each feature on the model's predictions."
   ]
  },
  {
   "cell_type": "code",
   "execution_count": 63,
   "id": "df382754",
   "metadata": {},
   "outputs": [
    {
     "name": "stdout",
     "output_type": "stream",
     "text": [
      "Collecting shap\n",
      "  Obtaining dependency information for shap from https://files.pythonhosted.org/packages/f5/fc/e81722d6bec4fcba46e46ef895eddaeab0027ac71e78fc35ef351fac5fe4/shap-0.43.0-cp311-cp311-win_amd64.whl.metadata\n",
      "  Downloading shap-0.43.0-cp311-cp311-win_amd64.whl.metadata (24 kB)\n",
      "Requirement already satisfied: numpy in c:\\python311\\lib\\site-packages (from shap) (1.24.1)\n",
      "Requirement already satisfied: scipy in c:\\python311\\lib\\site-packages (from shap) (1.11.2)\n",
      "Requirement already satisfied: scikit-learn in c:\\python311\\lib\\site-packages (from shap) (1.3.0)\n",
      "Requirement already satisfied: pandas in c:\\python311\\lib\\site-packages (from shap) (1.5.3)\n",
      "Collecting tqdm>=4.27.0 (from shap)\n",
      "  Obtaining dependency information for tqdm>=4.27.0 from https://files.pythonhosted.org/packages/00/e5/f12a80907d0884e6dff9c16d0c0114d81b8cd07dc3ae54c5e962cc83037e/tqdm-4.66.1-py3-none-any.whl.metadata\n",
      "  Downloading tqdm-4.66.1-py3-none-any.whl.metadata (57 kB)\n",
      "     ---------------------------------------- 0.0/57.6 kB ? eta -:--:--\n",
      "     ---------------------------------------- 0.0/57.6 kB ? eta -:--:--\n",
      "     --------------------- ------------------ 30.7/57.6 kB ? eta -:--:--\n",
      "     ---------------------------------------- 57.6/57.6 kB 1.5 MB/s eta 0:00:00\n",
      "Requirement already satisfied: packaging>20.9 in c:\\python311\\lib\\site-packages (from shap) (23.0)\n",
      "Collecting slicer==0.0.7 (from shap)\n",
      "  Downloading slicer-0.0.7-py3-none-any.whl (14 kB)\n",
      "Collecting numba (from shap)\n",
      "  Obtaining dependency information for numba from https://files.pythonhosted.org/packages/cd/59/5dd8a3059997ec1daf6f9f7c9b1aef7f0a9e23e1334a5774eae65cae6fd0/numba-0.58.1-cp311-cp311-win_amd64.whl.metadata\n",
      "  Downloading numba-0.58.1-cp311-cp311-win_amd64.whl.metadata (2.8 kB)\n",
      "Collecting cloudpickle (from shap)\n",
      "  Obtaining dependency information for cloudpickle from https://files.pythonhosted.org/packages/96/43/dae06432d0c4b1dc9e9149ad37b4ca8384cf6eb7700cd9215b177b914f0a/cloudpickle-3.0.0-py3-none-any.whl.metadata\n",
      "  Downloading cloudpickle-3.0.0-py3-none-any.whl.metadata (7.0 kB)\n",
      "Requirement already satisfied: colorama in c:\\python311\\lib\\site-packages (from tqdm>=4.27.0->shap) (0.4.6)\n",
      "Collecting llvmlite<0.42,>=0.41.0dev0 (from numba->shap)\n",
      "  Obtaining dependency information for llvmlite<0.42,>=0.41.0dev0 from https://files.pythonhosted.org/packages/14/fe/d3a9c921a2adad2e9f24693754983f290e0dac9410666e802b9dba4d0218/llvmlite-0.41.1-cp311-cp311-win_amd64.whl.metadata\n",
      "  Downloading llvmlite-0.41.1-cp311-cp311-win_amd64.whl.metadata (4.9 kB)\n",
      "Requirement already satisfied: python-dateutil>=2.8.1 in c:\\python311\\lib\\site-packages (from pandas->shap) (2.8.2)\n",
      "Requirement already satisfied: pytz>=2020.1 in c:\\python311\\lib\\site-packages (from pandas->shap) (2022.7.1)\n",
      "Requirement already satisfied: joblib>=1.1.1 in c:\\python311\\lib\\site-packages (from scikit-learn->shap) (1.3.2)\n",
      "Requirement already satisfied: threadpoolctl>=2.0.0 in c:\\python311\\lib\\site-packages (from scikit-learn->shap) (3.2.0)\n",
      "Requirement already satisfied: six>=1.5 in c:\\python311\\lib\\site-packages (from python-dateutil>=2.8.1->pandas->shap) (1.16.0)\n",
      "Downloading shap-0.43.0-cp311-cp311-win_amd64.whl (447 kB)\n",
      "   ---------------------------------------- 0.0/447.3 kB ? eta -:--:--\n",
      "   -------- ------------------------------- 92.2/447.3 kB 5.5 MB/s eta 0:00:01\n",
      "   -------- ------------------------------- 92.2/447.3 kB 5.5 MB/s eta 0:00:01\n",
      "   ---------------------------- ----------- 317.4/447.3 kB 2.8 MB/s eta 0:00:01\n",
      "   ---------------------------- ----------- 317.4/447.3 kB 2.8 MB/s eta 0:00:01\n",
      "   ---------------------------------------- 447.3/447.3 kB 2.2 MB/s eta 0:00:00\n",
      "Downloading tqdm-4.66.1-py3-none-any.whl (78 kB)\n",
      "   ---------------------------------------- 0.0/78.3 kB ? eta -:--:--\n",
      "   ---------------------------------------- 78.3/78.3 kB ? eta 0:00:00\n",
      "Downloading cloudpickle-3.0.0-py3-none-any.whl (20 kB)\n",
      "Downloading numba-0.58.1-cp311-cp311-win_amd64.whl (2.6 MB)\n",
      "   ---------------------------------------- 0.0/2.6 MB ? eta -:--:--\n",
      "   --- ------------------------------------ 0.2/2.6 MB 14.7 MB/s eta 0:00:01\n",
      "   --- ------------------------------------ 0.2/2.6 MB 14.7 MB/s eta 0:00:01\n",
      "   ------- -------------------------------- 0.5/2.6 MB 4.5 MB/s eta 0:00:01\n",
      "   ------- -------------------------------- 0.5/2.6 MB 4.5 MB/s eta 0:00:01\n",
      "   ------------ --------------------------- 0.8/2.6 MB 3.9 MB/s eta 0:00:01\n",
      "   ------------ --------------------------- 0.8/2.6 MB 3.0 MB/s eta 0:00:01\n",
      "   --------------- ------------------------ 1.0/2.6 MB 3.2 MB/s eta 0:00:01\n",
      "   ------------------- -------------------- 1.3/2.6 MB 3.5 MB/s eta 0:00:01\n",
      "   -------------------- ------------------- 1.3/2.6 MB 3.5 MB/s eta 0:00:01\n",
      "   -------------------- ------------------- 1.3/2.6 MB 3.5 MB/s eta 0:00:01\n",
      "   -------------------- ------------------- 1.3/2.6 MB 3.5 MB/s eta 0:00:01\n",
      "   -------------------- ------------------- 1.3/2.6 MB 3.5 MB/s eta 0:00:01\n",
      "   -------------------- ------------------- 1.3/2.6 MB 3.5 MB/s eta 0:00:01\n",
      "   --------------------- ------------------ 1.4/2.6 MB 2.2 MB/s eta 0:00:01\n",
      "   ----------------------- ---------------- 1.5/2.6 MB 2.2 MB/s eta 0:00:01\n",
      "   --------------------------- ------------ 1.8/2.6 MB 2.4 MB/s eta 0:00:01\n",
      "   ----------------------------- ---------- 1.9/2.6 MB 2.5 MB/s eta 0:00:01\n",
      "   ------------------------------- -------- 2.1/2.6 MB 2.5 MB/s eta 0:00:01\n",
      "   ---------------------------------- ----- 2.3/2.6 MB 2.6 MB/s eta 0:00:01\n",
      "   ------------------------------------- -- 2.4/2.6 MB 2.6 MB/s eta 0:00:01\n",
      "   ---------------------------------------  2.6/2.6 MB 2.6 MB/s eta 0:00:01\n",
      "   ---------------------------------------- 2.6/2.6 MB 2.6 MB/s eta 0:00:00\n",
      "Downloading llvmlite-0.41.1-cp311-cp311-win_amd64.whl (28.1 MB)\n",
      "   ---------------------------------------- 0.0/28.1 MB ? eta -:--:--\n",
      "   ---------------------------------------- 0.2/28.1 MB 3.5 MB/s eta 0:00:09\n",
      "   ---------------------------------------- 0.3/28.1 MB 3.6 MB/s eta 0:00:08\n",
      "    --------------------------------------- 0.5/28.1 MB 3.7 MB/s eta 0:00:08\n",
      "   - -------------------------------------- 0.7/28.1 MB 4.0 MB/s eta 0:00:07\n",
      "   - -------------------------------------- 0.9/28.1 MB 3.8 MB/s eta 0:00:08\n",
      "   - -------------------------------------- 1.1/28.1 MB 3.8 MB/s eta 0:00:08\n",
      "   - -------------------------------------- 1.3/28.1 MB 3.8 MB/s eta 0:00:07\n",
      "   -- ------------------------------------- 1.5/28.1 MB 3.9 MB/s eta 0:00:07\n",
      "   -- ------------------------------------- 1.6/28.1 MB 3.9 MB/s eta 0:00:07\n",
      "   -- ------------------------------------- 1.8/28.1 MB 3.9 MB/s eta 0:00:07\n",
      "   -- ------------------------------------- 2.0/28.1 MB 3.9 MB/s eta 0:00:07\n",
      "   --- ------------------------------------ 2.2/28.1 MB 3.9 MB/s eta 0:00:07\n",
      "   --- ------------------------------------ 2.4/28.1 MB 4.0 MB/s eta 0:00:07\n",
      "   --- ------------------------------------ 2.6/28.1 MB 4.0 MB/s eta 0:00:07\n",
      "   ---- ----------------------------------- 2.8/28.1 MB 4.0 MB/s eta 0:00:07\n",
      "   ---- ----------------------------------- 3.0/28.1 MB 4.0 MB/s eta 0:00:07\n",
      "   ---- ----------------------------------- 3.2/28.1 MB 4.1 MB/s eta 0:00:07\n",
      "   ---- ----------------------------------- 3.4/28.1 MB 4.1 MB/s eta 0:00:07\n",
      "   ----- ---------------------------------- 3.7/28.1 MB 4.1 MB/s eta 0:00:06\n",
      "   ----- ---------------------------------- 3.9/28.1 MB 4.1 MB/s eta 0:00:06\n",
      "   ----- ---------------------------------- 4.1/28.1 MB 4.1 MB/s eta 0:00:06\n",
      "   ------ --------------------------------- 4.3/28.1 MB 4.1 MB/s eta 0:00:06\n",
      "   ------ --------------------------------- 4.5/28.1 MB 4.2 MB/s eta 0:00:06\n",
      "   ------ --------------------------------- 4.7/28.1 MB 4.1 MB/s eta 0:00:06\n",
      "   ------ --------------------------------- 4.9/28.1 MB 4.2 MB/s eta 0:00:06\n",
      "   ------- -------------------------------- 5.1/28.1 MB 4.2 MB/s eta 0:00:06\n",
      "   ------- -------------------------------- 5.3/28.1 MB 4.2 MB/s eta 0:00:06\n",
      "   ------- -------------------------------- 5.5/28.1 MB 4.2 MB/s eta 0:00:06\n",
      "   -------- ------------------------------- 5.7/28.1 MB 4.2 MB/s eta 0:00:06\n",
      "   -------- ------------------------------- 6.0/28.1 MB 4.2 MB/s eta 0:00:06\n",
      "   -------- ------------------------------- 6.2/28.1 MB 4.3 MB/s eta 0:00:06\n",
      "   --------- ------------------------------ 6.4/28.1 MB 4.3 MB/s eta 0:00:06\n",
      "   --------- ------------------------------ 6.6/28.1 MB 4.3 MB/s eta 0:00:06\n",
      "   --------- ------------------------------ 6.9/28.1 MB 4.3 MB/s eta 0:00:05\n",
      "   ---------- ----------------------------- 7.0/28.1 MB 4.2 MB/s eta 0:00:05\n",
      "   ---------- ----------------------------- 7.2/28.1 MB 4.3 MB/s eta 0:00:05\n",
      "   ---------- ----------------------------- 7.5/28.1 MB 4.3 MB/s eta 0:00:05\n",
      "   ---------- ----------------------------- 7.7/28.1 MB 4.3 MB/s eta 0:00:05\n",
      "   ----------- ---------------------------- 7.8/28.1 MB 4.3 MB/s eta 0:00:05\n",
      "   ----------- ---------------------------- 8.0/28.1 MB 4.3 MB/s eta 0:00:05\n",
      "   ----------- ---------------------------- 8.3/28.1 MB 4.3 MB/s eta 0:00:05\n",
      "   ------------ --------------------------- 8.5/28.1 MB 4.3 MB/s eta 0:00:05\n",
      "   ------------ --------------------------- 8.7/28.1 MB 4.3 MB/s eta 0:00:05\n",
      "   ------------ --------------------------- 8.9/28.1 MB 4.3 MB/s eta 0:00:05\n",
      "   ------------- -------------------------- 9.2/28.1 MB 4.3 MB/s eta 0:00:05\n",
      "   ------------- -------------------------- 9.4/28.1 MB 4.3 MB/s eta 0:00:05\n",
      "   ------------- -------------------------- 9.6/28.1 MB 4.3 MB/s eta 0:00:05\n",
      "   ------------- -------------------------- 9.8/28.1 MB 4.3 MB/s eta 0:00:05\n",
      "   -------------- ------------------------- 10.1/28.1 MB 4.3 MB/s eta 0:00:05\n",
      "   -------------- ------------------------- 10.3/28.1 MB 4.4 MB/s eta 0:00:05\n",
      "   -------------- ------------------------- 10.5/28.1 MB 4.4 MB/s eta 0:00:04\n",
      "   --------------- ------------------------ 10.7/28.1 MB 4.4 MB/s eta 0:00:04\n",
      "   --------------- ------------------------ 11.0/28.1 MB 4.5 MB/s eta 0:00:04\n",
      "   --------------- ------------------------ 11.2/28.1 MB 4.5 MB/s eta 0:00:04\n",
      "   ---------------- ----------------------- 11.4/28.1 MB 4.5 MB/s eta 0:00:04\n",
      "   ---------------- ----------------------- 11.6/28.1 MB 4.5 MB/s eta 0:00:04\n",
      "   ---------------- ----------------------- 11.9/28.1 MB 4.5 MB/s eta 0:00:04\n",
      "   ----------------- ---------------------- 12.1/28.1 MB 4.5 MB/s eta 0:00:04\n",
      "   ----------------- ---------------------- 12.3/28.1 MB 4.5 MB/s eta 0:00:04\n",
      "   ----------------- ---------------------- 12.5/28.1 MB 4.5 MB/s eta 0:00:04\n",
      "   ------------------ --------------------- 12.8/28.1 MB 4.5 MB/s eta 0:00:04\n",
      "   ------------------ --------------------- 13.0/28.1 MB 4.6 MB/s eta 0:00:04\n",
      "   ------------------ --------------------- 13.2/28.1 MB 4.6 MB/s eta 0:00:04\n",
      "   ------------------- -------------------- 13.4/28.1 MB 4.6 MB/s eta 0:00:04\n",
      "   ------------------- -------------------- 13.7/28.1 MB 4.6 MB/s eta 0:00:04\n",
      "   ------------------- -------------------- 13.9/28.1 MB 4.6 MB/s eta 0:00:04\n",
      "   -------------------- ------------------- 14.1/28.1 MB 4.6 MB/s eta 0:00:04\n",
      "   -------------------- ------------------- 14.3/28.1 MB 4.6 MB/s eta 0:00:03\n",
      "   -------------------- ------------------- 14.6/28.1 MB 4.6 MB/s eta 0:00:03\n",
      "   --------------------- ------------------ 14.8/28.1 MB 4.7 MB/s eta 0:00:03\n",
      "   --------------------- ------------------ 15.0/28.1 MB 4.7 MB/s eta 0:00:03\n",
      "   --------------------- ------------------ 15.2/28.1 MB 4.6 MB/s eta 0:00:03\n",
      "   ---------------------- ----------------- 15.5/28.1 MB 4.6 MB/s eta 0:00:03\n",
      "   ---------------------- ----------------- 15.7/28.1 MB 4.7 MB/s eta 0:00:03\n",
      "   ---------------------- ----------------- 15.9/28.1 MB 4.7 MB/s eta 0:00:03\n",
      "   ---------------------- ----------------- 16.1/28.1 MB 4.6 MB/s eta 0:00:03\n",
      "   ----------------------- ---------------- 16.4/28.1 MB 4.6 MB/s eta 0:00:03\n",
      "   ----------------------- ---------------- 16.6/28.1 MB 4.7 MB/s eta 0:00:03\n",
      "   ----------------------- ---------------- 16.8/28.1 MB 4.7 MB/s eta 0:00:03\n",
      "   ------------------------ --------------- 17.0/28.1 MB 4.7 MB/s eta 0:00:03\n",
      "   ------------------------ --------------- 17.2/28.1 MB 4.7 MB/s eta 0:00:03\n",
      "   ------------------------ --------------- 17.5/28.1 MB 4.7 MB/s eta 0:00:03\n",
      "   ------------------------- -------------- 17.7/28.1 MB 4.7 MB/s eta 0:00:03\n",
      "   ------------------------- -------------- 17.9/28.1 MB 4.7 MB/s eta 0:00:03\n",
      "   ------------------------- -------------- 18.1/28.1 MB 4.7 MB/s eta 0:00:03\n",
      "   -------------------------- ------------- 18.4/28.1 MB 4.7 MB/s eta 0:00:03\n",
      "   -------------------------- ------------- 18.6/28.1 MB 4.7 MB/s eta 0:00:02\n",
      "   -------------------------- ------------- 18.8/28.1 MB 4.7 MB/s eta 0:00:02\n",
      "   --------------------------- ------------ 19.0/28.1 MB 4.7 MB/s eta 0:00:02\n",
      "   --------------------------- ------------ 19.3/28.1 MB 4.7 MB/s eta 0:00:02\n",
      "   --------------------------- ------------ 19.5/28.1 MB 4.7 MB/s eta 0:00:02\n",
      "   ---------------------------- ----------- 19.7/28.1 MB 4.8 MB/s eta 0:00:02\n",
      "   ---------------------------- ----------- 20.0/28.1 MB 4.7 MB/s eta 0:00:02\n",
      "   ---------------------------- ----------- 20.2/28.1 MB 4.7 MB/s eta 0:00:02\n",
      "   ----------------------------- ---------- 20.4/28.1 MB 4.7 MB/s eta 0:00:02\n",
      "   ----------------------------- ---------- 20.6/28.1 MB 4.8 MB/s eta 0:00:02\n",
      "   ----------------------------- ---------- 20.8/28.1 MB 4.7 MB/s eta 0:00:02\n",
      "   ------------------------------ --------- 21.1/28.1 MB 4.8 MB/s eta 0:00:02\n",
      "   ------------------------------ --------- 21.3/28.1 MB 4.7 MB/s eta 0:00:02\n",
      "   ------------------------------ --------- 21.5/28.1 MB 4.7 MB/s eta 0:00:02\n",
      "   ------------------------------ --------- 21.8/28.1 MB 4.7 MB/s eta 0:00:02\n",
      "   ------------------------------- -------- 22.0/28.1 MB 4.7 MB/s eta 0:00:02\n",
      "   ------------------------------- -------- 22.2/28.1 MB 4.7 MB/s eta 0:00:02\n",
      "   ------------------------------- -------- 22.4/28.1 MB 4.7 MB/s eta 0:00:02\n",
      "   -------------------------------- ------- 22.7/28.1 MB 4.7 MB/s eta 0:00:02\n",
      "   -------------------------------- ------- 22.9/28.1 MB 4.7 MB/s eta 0:00:02\n",
      "   -------------------------------- ------- 23.1/28.1 MB 4.7 MB/s eta 0:00:02\n",
      "   --------------------------------- ------ 23.3/28.1 MB 4.7 MB/s eta 0:00:02\n",
      "   --------------------------------- ------ 23.6/28.1 MB 4.7 MB/s eta 0:00:01\n",
      "   --------------------------------- ------ 23.8/28.1 MB 4.7 MB/s eta 0:00:01\n",
      "   ---------------------------------- ----- 24.0/28.1 MB 4.7 MB/s eta 0:00:01\n",
      "   ---------------------------------- ----- 24.2/28.1 MB 4.7 MB/s eta 0:00:01\n",
      "   ---------------------------------- ----- 24.5/28.1 MB 4.7 MB/s eta 0:00:01\n",
      "   ----------------------------------- ---- 24.7/28.1 MB 4.7 MB/s eta 0:00:01\n",
      "   ----------------------------------- ---- 24.9/28.1 MB 4.7 MB/s eta 0:00:01\n",
      "   ----------------------------------- ---- 25.1/28.1 MB 4.7 MB/s eta 0:00:01\n",
      "   ------------------------------------ --- 25.4/28.1 MB 4.7 MB/s eta 0:00:01\n",
      "   ------------------------------------ --- 25.6/28.1 MB 4.7 MB/s eta 0:00:01\n",
      "   ------------------------------------ --- 25.8/28.1 MB 4.7 MB/s eta 0:00:01\n",
      "   ------------------------------------- -- 26.1/28.1 MB 4.8 MB/s eta 0:00:01\n",
      "   ------------------------------------- -- 26.3/28.1 MB 4.8 MB/s eta 0:00:01\n",
      "   ------------------------------------- -- 26.5/28.1 MB 4.7 MB/s eta 0:00:01\n",
      "   -------------------------------------- - 26.7/28.1 MB 4.8 MB/s eta 0:00:01\n",
      "   -------------------------------------- - 26.9/28.1 MB 4.7 MB/s eta 0:00:01\n",
      "   -------------------------------------- - 27.2/28.1 MB 4.8 MB/s eta 0:00:01\n",
      "   ---------------------------------------  27.4/28.1 MB 4.7 MB/s eta 0:00:01\n",
      "   ---------------------------------------  27.6/28.1 MB 4.7 MB/s eta 0:00:01\n",
      "   ---------------------------------------  27.9/28.1 MB 4.7 MB/s eta 0:00:01\n",
      "   ---------------------------------------  28.1/28.1 MB 4.7 MB/s eta 0:00:01\n",
      "   ---------------------------------------  28.1/28.1 MB 4.7 MB/s eta 0:00:01\n",
      "   ---------------------------------------- 28.1/28.1 MB 4.6 MB/s eta 0:00:00\n",
      "Installing collected packages: tqdm, slicer, llvmlite, cloudpickle, numba, shap\n",
      "Successfully installed cloudpickle-3.0.0 llvmlite-0.41.1 numba-0.58.1 shap-0.43.0 slicer-0.0.7 tqdm-4.66.1\n",
      "Note: you may need to restart the kernel to use updated packages.\n"
     ]
    },
    {
     "name": "stderr",
     "output_type": "stream",
     "text": [
      "\n",
      "[notice] A new release of pip is available: 23.2.1 -> 23.3.1\n",
      "[notice] To update, run: python.exe -m pip install --upgrade pip\n"
     ]
    }
   ],
   "source": [
    "pip install shap"
   ]
  },
  {
   "cell_type": "code",
   "execution_count": 64,
   "id": "c4f21af0",
   "metadata": {},
   "outputs": [
    {
     "name": "stderr",
     "output_type": "stream",
     "text": [
      "IProgress not found. Please update jupyter and ipywidgets. See https://ipywidgets.readthedocs.io/en/stable/user_install.html\n"
     ]
    },
    {
     "data": {
      "image/png": "[encoded data removed]",
      "text/plain": [
       "<Figure size 800x310 with 1 Axes>"
      ]
     },
     "metadata": {},
     "output_type": "display_data"
    }
   ],
   "source": [
    "import shap\n",
    "\n",
    "# Assume 'rf_best_model' is the best-performing Random Forest model from the previous examples\n",
    "# Fit the SHAP explainer to the training data\n",
    "explainer = shap.TreeExplainer(rf_best_model)\n",
    "shap_values = explainer.shap_values(X_train_tf)\n",
    "\n",
    "# Visualize the SHAP summary plot\n",
    "shap.summary_plot(shap_values, X_train_tf, feature_names=X_train_no_collinearity.columns, show=False)\n",
    "plt.title(\"SHAP Summary Plot for Random Forest Model\")\n",
    "#plt.savefig('shap_summary_plot.pdf')\n",
    "plt.show()"
   ]
  },
  {
   "cell_type": "code",
   "execution_count": null,
   "id": "e29a2881",
   "metadata": {},
   "outputs": [],
   "source": []
  }
 ],
 "metadata": {
  "kernelspec": {
   "display_name": "Python 3 (ipykernel)",
   "language": "python",
   "name": "python3"
  },
  "language_info": {
   "codemirror_mode": {
    "name": "ipython",
    "version": 3
   },
   "file_extension": ".py",
   "mimetype": "text/x-python",
   "name": "python",
   "nbconvert_exporter": "python",
   "pygments_lexer": "ipython3",
   "version": "3.11.5"
  }
 },
 "nbformat": 4,
 "nbformat_minor": 5
}
